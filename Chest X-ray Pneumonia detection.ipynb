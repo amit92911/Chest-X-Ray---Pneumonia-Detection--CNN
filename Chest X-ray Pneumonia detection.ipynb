{
 "cells": [
  {
   "cell_type": "code",
   "execution_count": 2,
   "id": "5c6efcfb-37d5-4517-b73b-5a52416e83df",
   "metadata": {},
   "outputs": [
    {
     "name": "stdout",
     "output_type": "stream",
     "text": [
      "Requirement already satisfied: h5py in c:\\users\\amit\\anaconda3\\lib\\site-packages (3.1.0)"
     ]
    },
    {
     "name": "stderr",
     "output_type": "stream",
     "text": [
      "ERROR: Could not install packages due to an OSError: [WinError 5] Access is denied: 'C:\\\\Users\\\\Amit\\\\AppData\\\\Local\\\\Temp\\\\pip-uninstall-g0c2ptbx\\\\h5.cp38-win_amd64.pyd'\n"
     ]
    },
    {
     "name": "stdout",
     "output_type": "stream",
     "text": [
      "\n",
      "Collecting h5py\n",
      "  Downloading h5py-3.6.0-cp38-cp38-win_amd64.whl (2.8 MB)\n",
      "Requirement already satisfied: numpy>=1.14.5 in c:\\users\\amit\\anaconda3\\lib\\site-packages (from h5py) (1.20.1)\n",
      "Installing collected packages: h5py\n",
      "  Attempting uninstall: h5py\n",
      "    Found existing installation: h5py 3.1.0\n",
      "    Uninstalling h5py-3.1.0:\n",
      "      Successfully uninstalled h5py-3.1.0\n"
     ]
    },
    {
     "name": "stderr",
     "output_type": "stream",
     "text": [
      "Consider using the `--user` option or check the permissions.\n",
      "\n"
     ]
    }
   ],
   "source": [
    "#!pip install --upgrade h5py"
   ]
  },
  {
   "cell_type": "code",
   "execution_count": 1,
   "id": "96cd4934-583f-4f5f-87d5-3f1810b8dc56",
   "metadata": {},
   "outputs": [],
   "source": [
    "# Importing to liberaries\n",
    "import pandas as pd\n",
    "import numpy as np\n",
    "import matplotlib.pyplot as plt\n",
    "from keras.models import Sequential\n",
    "from keras.layers import Conv2D, MaxPool2D, Dense, BatchNormalization, Flatten, Dropout\n",
    "import cv2\n",
    "from keras.callbacks import EarlyStopping, ReduceLROnPlateau\n",
    "from keras.preprocessing.image import ImageDataGenerator\n",
    "import os\n",
    "import tensorflow as tf\n",
    "\n",
    "from sklearn.metrics import accuracy_score, confusion_matrix"
   ]
  },
  {
   "cell_type": "code",
   "execution_count": 2,
   "id": "a66430d6-7cfd-4cfe-8ca8-127efb84e5c7",
   "metadata": {},
   "outputs": [],
   "source": [
    "# Reading in data\n",
    "train_dir = \"C:\\\\Users\\\\Amit\\\\Desktop\\\\ML Projects\\\\Chest X-ray Pnumonia\\\\Data\\\\train\"\n",
    "test_dir = \"C:\\\\Users\\\\Amit\\\\Desktop\\\\ML Projects\\\\Chest X-ray Pnumonia\\\\Data\\\\test\"\n",
    "val_dir = \"C:\\\\Users\\\\Amit\\\\Desktop\\\\ML Projects\\\\Chest X-ray Pnumonia\\\\Data\\\\val\"\n",
    "categories = os.listdir(train_dir)"
   ]
  },
  {
   "cell_type": "markdown",
   "id": "c2760efb-9634-4a73-8b12-001e1f03fc5f",
   "metadata": {},
   "source": [
    "# Extract to dataframe"
   ]
  },
  {
   "cell_type": "code",
   "execution_count": 3,
   "id": "86b17bb8-4528-4848-82b2-4fb6f4a5c62b",
   "metadata": {},
   "outputs": [
    {
     "data": {
      "text/html": [
       "<div>\n",
       "<style scoped>\n",
       "    .dataframe tbody tr th:only-of-type {\n",
       "        vertical-align: middle;\n",
       "    }\n",
       "\n",
       "    .dataframe tbody tr th {\n",
       "        vertical-align: top;\n",
       "    }\n",
       "\n",
       "    .dataframe thead th {\n",
       "        text-align: right;\n",
       "    }\n",
       "</style>\n",
       "<table border=\"1\" class=\"dataframe\">\n",
       "  <thead>\n",
       "    <tr style=\"text-align: right;\">\n",
       "      <th></th>\n",
       "      <th>Paths</th>\n",
       "      <th>File</th>\n",
       "      <th>Category</th>\n",
       "    </tr>\n",
       "  </thead>\n",
       "  <tbody>\n",
       "    <tr>\n",
       "      <th>0</th>\n",
       "      <td>C:\\Users\\Amit\\Desktop\\ML Projects\\Chest X-ray ...</td>\n",
       "      <td>IM-0115-0001.jpeg</td>\n",
       "      <td>NORMAL</td>\n",
       "    </tr>\n",
       "    <tr>\n",
       "      <th>1</th>\n",
       "      <td>C:\\Users\\Amit\\Desktop\\ML Projects\\Chest X-ray ...</td>\n",
       "      <td>IM-0117-0001.jpeg</td>\n",
       "      <td>NORMAL</td>\n",
       "    </tr>\n",
       "    <tr>\n",
       "      <th>2</th>\n",
       "      <td>C:\\Users\\Amit\\Desktop\\ML Projects\\Chest X-ray ...</td>\n",
       "      <td>IM-0119-0001.jpeg</td>\n",
       "      <td>NORMAL</td>\n",
       "    </tr>\n",
       "    <tr>\n",
       "      <th>3</th>\n",
       "      <td>C:\\Users\\Amit\\Desktop\\ML Projects\\Chest X-ray ...</td>\n",
       "      <td>IM-0122-0001.jpeg</td>\n",
       "      <td>NORMAL</td>\n",
       "    </tr>\n",
       "    <tr>\n",
       "      <th>4</th>\n",
       "      <td>C:\\Users\\Amit\\Desktop\\ML Projects\\Chest X-ray ...</td>\n",
       "      <td>IM-0125-0001.jpeg</td>\n",
       "      <td>NORMAL</td>\n",
       "    </tr>\n",
       "  </tbody>\n",
       "</table>\n",
       "</div>"
      ],
      "text/plain": [
       "                                               Paths               File  \\\n",
       "0  C:\\Users\\Amit\\Desktop\\ML Projects\\Chest X-ray ...  IM-0115-0001.jpeg   \n",
       "1  C:\\Users\\Amit\\Desktop\\ML Projects\\Chest X-ray ...  IM-0117-0001.jpeg   \n",
       "2  C:\\Users\\Amit\\Desktop\\ML Projects\\Chest X-ray ...  IM-0119-0001.jpeg   \n",
       "3  C:\\Users\\Amit\\Desktop\\ML Projects\\Chest X-ray ...  IM-0122-0001.jpeg   \n",
       "4  C:\\Users\\Amit\\Desktop\\ML Projects\\Chest X-ray ...  IM-0125-0001.jpeg   \n",
       "\n",
       "  Category  \n",
       "0   NORMAL  \n",
       "1   NORMAL  \n",
       "2   NORMAL  \n",
       "3   NORMAL  \n",
       "4   NORMAL  "
      ]
     },
     "execution_count": 3,
     "metadata": {},
     "output_type": "execute_result"
    }
   ],
   "source": [
    "# Creating Training df with file path, fine name, and class as variables\n",
    "paths= []\n",
    "category_list=[]\n",
    "file = []\n",
    "for cate in categories:\n",
    "    path = os.path.join(train_dir, cate)\n",
    "    \n",
    "    for img in os.listdir(path):\n",
    "        paths.append(os.path.abspath(img))\n",
    "        category_list.append(cate)\n",
    "        file.append(img)\n",
    "        \n",
    "df_train = pd.DataFrame({'Paths' :paths, 'File':file ,'Category':category_list})\n",
    "df_train.head()"
   ]
  },
  {
   "cell_type": "code",
   "execution_count": null,
   "id": "5e04aa3a-400c-4342-b42a-5d159cba3c4b",
   "metadata": {},
   "outputs": [],
   "source": []
  },
  {
   "cell_type": "code",
   "execution_count": 4,
   "id": "94b13b3b-ac36-40f9-9a8b-dc491964594b",
   "metadata": {},
   "outputs": [
    {
     "data": {
      "text/html": [
       "<div>\n",
       "<style scoped>\n",
       "    .dataframe tbody tr th:only-of-type {\n",
       "        vertical-align: middle;\n",
       "    }\n",
       "\n",
       "    .dataframe tbody tr th {\n",
       "        vertical-align: top;\n",
       "    }\n",
       "\n",
       "    .dataframe thead th {\n",
       "        text-align: right;\n",
       "    }\n",
       "</style>\n",
       "<table border=\"1\" class=\"dataframe\">\n",
       "  <thead>\n",
       "    <tr style=\"text-align: right;\">\n",
       "      <th></th>\n",
       "      <th>Paths</th>\n",
       "      <th>File</th>\n",
       "      <th>Category</th>\n",
       "    </tr>\n",
       "  </thead>\n",
       "  <tbody>\n",
       "    <tr>\n",
       "      <th>0</th>\n",
       "      <td>C:\\Users\\Amit\\Desktop\\ML Projects\\Chest X-ray ...</td>\n",
       "      <td>IM-0001-0001.jpeg</td>\n",
       "      <td>NORMAL</td>\n",
       "    </tr>\n",
       "    <tr>\n",
       "      <th>1</th>\n",
       "      <td>C:\\Users\\Amit\\Desktop\\ML Projects\\Chest X-ray ...</td>\n",
       "      <td>IM-0003-0001.jpeg</td>\n",
       "      <td>NORMAL</td>\n",
       "    </tr>\n",
       "    <tr>\n",
       "      <th>2</th>\n",
       "      <td>C:\\Users\\Amit\\Desktop\\ML Projects\\Chest X-ray ...</td>\n",
       "      <td>IM-0005-0001.jpeg</td>\n",
       "      <td>NORMAL</td>\n",
       "    </tr>\n",
       "    <tr>\n",
       "      <th>3</th>\n",
       "      <td>C:\\Users\\Amit\\Desktop\\ML Projects\\Chest X-ray ...</td>\n",
       "      <td>IM-0006-0001.jpeg</td>\n",
       "      <td>NORMAL</td>\n",
       "    </tr>\n",
       "    <tr>\n",
       "      <th>4</th>\n",
       "      <td>C:\\Users\\Amit\\Desktop\\ML Projects\\Chest X-ray ...</td>\n",
       "      <td>IM-0007-0001.jpeg</td>\n",
       "      <td>NORMAL</td>\n",
       "    </tr>\n",
       "  </tbody>\n",
       "</table>\n",
       "</div>"
      ],
      "text/plain": [
       "                                               Paths               File  \\\n",
       "0  C:\\Users\\Amit\\Desktop\\ML Projects\\Chest X-ray ...  IM-0001-0001.jpeg   \n",
       "1  C:\\Users\\Amit\\Desktop\\ML Projects\\Chest X-ray ...  IM-0003-0001.jpeg   \n",
       "2  C:\\Users\\Amit\\Desktop\\ML Projects\\Chest X-ray ...  IM-0005-0001.jpeg   \n",
       "3  C:\\Users\\Amit\\Desktop\\ML Projects\\Chest X-ray ...  IM-0006-0001.jpeg   \n",
       "4  C:\\Users\\Amit\\Desktop\\ML Projects\\Chest X-ray ...  IM-0007-0001.jpeg   \n",
       "\n",
       "  Category  \n",
       "0   NORMAL  \n",
       "1   NORMAL  \n",
       "2   NORMAL  \n",
       "3   NORMAL  \n",
       "4   NORMAL  "
      ]
     },
     "execution_count": 4,
     "metadata": {},
     "output_type": "execute_result"
    }
   ],
   "source": [
    "# Creating Test df with file path, fine name, and class as variables\n",
    "paths= []\n",
    "category_list=[]\n",
    "file = []\n",
    "for cate in categories:\n",
    "    path = os.path.join(test_dir, cate)\n",
    "    \n",
    "    for img in os.listdir(path):\n",
    "        paths.append(os.path.abspath(img))\n",
    "        category_list.append(cate)\n",
    "        file.append(img)\n",
    "        \n",
    "df_test = pd.DataFrame({'Paths' :paths, 'File':file ,'Category':category_list})\n",
    "df_test.head()"
   ]
  },
  {
   "cell_type": "code",
   "execution_count": 5,
   "id": "b99ea466-bf40-4b70-aae2-c70c7a3f5d92",
   "metadata": {},
   "outputs": [
    {
     "data": {
      "text/html": [
       "<div>\n",
       "<style scoped>\n",
       "    .dataframe tbody tr th:only-of-type {\n",
       "        vertical-align: middle;\n",
       "    }\n",
       "\n",
       "    .dataframe tbody tr th {\n",
       "        vertical-align: top;\n",
       "    }\n",
       "\n",
       "    .dataframe thead th {\n",
       "        text-align: right;\n",
       "    }\n",
       "</style>\n",
       "<table border=\"1\" class=\"dataframe\">\n",
       "  <thead>\n",
       "    <tr style=\"text-align: right;\">\n",
       "      <th></th>\n",
       "      <th>Paths</th>\n",
       "      <th>File</th>\n",
       "      <th>Category</th>\n",
       "    </tr>\n",
       "  </thead>\n",
       "  <tbody>\n",
       "    <tr>\n",
       "      <th>0</th>\n",
       "      <td>C:\\Users\\Amit\\Desktop\\ML Projects\\Chest X-ray ...</td>\n",
       "      <td>IM-0335-0001.jpeg</td>\n",
       "      <td>NORMAL</td>\n",
       "    </tr>\n",
       "    <tr>\n",
       "      <th>1</th>\n",
       "      <td>C:\\Users\\Amit\\Desktop\\ML Projects\\Chest X-ray ...</td>\n",
       "      <td>IM-0339-0001.jpeg</td>\n",
       "      <td>NORMAL</td>\n",
       "    </tr>\n",
       "    <tr>\n",
       "      <th>2</th>\n",
       "      <td>C:\\Users\\Amit\\Desktop\\ML Projects\\Chest X-ray ...</td>\n",
       "      <td>IM-0377-0001.jpeg</td>\n",
       "      <td>NORMAL</td>\n",
       "    </tr>\n",
       "    <tr>\n",
       "      <th>3</th>\n",
       "      <td>C:\\Users\\Amit\\Desktop\\ML Projects\\Chest X-ray ...</td>\n",
       "      <td>IM-0740-0001.jpeg</td>\n",
       "      <td>NORMAL</td>\n",
       "    </tr>\n",
       "    <tr>\n",
       "      <th>4</th>\n",
       "      <td>C:\\Users\\Amit\\Desktop\\ML Projects\\Chest X-ray ...</td>\n",
       "      <td>NORMAL2-IM-0439-0001.jpeg</td>\n",
       "      <td>NORMAL</td>\n",
       "    </tr>\n",
       "  </tbody>\n",
       "</table>\n",
       "</div>"
      ],
      "text/plain": [
       "                                               Paths  \\\n",
       "0  C:\\Users\\Amit\\Desktop\\ML Projects\\Chest X-ray ...   \n",
       "1  C:\\Users\\Amit\\Desktop\\ML Projects\\Chest X-ray ...   \n",
       "2  C:\\Users\\Amit\\Desktop\\ML Projects\\Chest X-ray ...   \n",
       "3  C:\\Users\\Amit\\Desktop\\ML Projects\\Chest X-ray ...   \n",
       "4  C:\\Users\\Amit\\Desktop\\ML Projects\\Chest X-ray ...   \n",
       "\n",
       "                        File Category  \n",
       "0          IM-0335-0001.jpeg   NORMAL  \n",
       "1          IM-0339-0001.jpeg   NORMAL  \n",
       "2          IM-0377-0001.jpeg   NORMAL  \n",
       "3          IM-0740-0001.jpeg   NORMAL  \n",
       "4  NORMAL2-IM-0439-0001.jpeg   NORMAL  "
      ]
     },
     "execution_count": 5,
     "metadata": {},
     "output_type": "execute_result"
    }
   ],
   "source": [
    "# Creating Validation df with file path, fine name, and class as variables\n",
    "paths= []\n",
    "category_list=[]\n",
    "file = []\n",
    "for cate in categories:\n",
    "    path = os.path.join(val_dir, cate)\n",
    "    \n",
    "    for img in os.listdir(path):\n",
    "        paths.append(os.path.abspath(img))\n",
    "        category_list.append(cate)\n",
    "        file.append(img)\n",
    "        \n",
    "df_val = pd.DataFrame({'Paths' :paths, 'File':file ,'Category':category_list})\n",
    "df_val.head()"
   ]
  },
  {
   "cell_type": "code",
   "execution_count": null,
   "id": "5d04eeae-4fca-4fc1-a1f7-f5f6d7ea9fba",
   "metadata": {},
   "outputs": [],
   "source": []
  },
  {
   "cell_type": "markdown",
   "id": "1b7f71eb-7150-41d9-b452-62fc1ad4ec23",
   "metadata": {},
   "source": [
    "## Generators"
   ]
  },
  {
   "cell_type": "code",
   "execution_count": 6,
   "id": "dbeec746-d0dd-45c8-a450-fcb9f8522f2d",
   "metadata": {},
   "outputs": [],
   "source": [
    "batch_size = 20\n",
    "image_size = 450\n",
    "input_shape = (450,450,1)"
   ]
  },
  {
   "cell_type": "markdown",
   "id": "9d7ab04a-96bc-4fb0-aa9e-3e48e6ae5485",
   "metadata": {},
   "source": [
    "#### Train set generator"
   ]
  },
  {
   "cell_type": "code",
   "execution_count": 7,
   "id": "d15879d6-ea9e-4c28-9ed1-ed188a6be174",
   "metadata": {},
   "outputs": [
    {
     "name": "stdout",
     "output_type": "stream",
     "text": [
      "Found 5184 images belonging to 2 classes.\n"
     ]
    }
   ],
   "source": [
    "# Creating a Generator to input data into the model\n",
    "# Performing some data auigmentation as well\n",
    "\n",
    "train = ImageDataGenerator(rescale=1/155,\n",
    "                           rotation_range=15,\n",
    "                           zoom_range=0.05,\n",
    "                           horizontal_flip=True,\n",
    "                          )\n",
    "\n",
    "train_data = train.flow_from_directory(train_dir,\n",
    "                                       target_size=(image_size,image_size),\n",
    "                                       color_mode='grayscale',\n",
    "                                       class_mode='categorical',\n",
    "                                       batch_size=batch_size,\n",
    "                                       shuffle=True,\n",
    "                                      )"
   ]
  },
  {
   "cell_type": "code",
   "execution_count": 8,
   "id": "4c19235a-39bb-4f45-be61-e69dcfeb04b2",
   "metadata": {},
   "outputs": [
    {
     "data": {
      "text/plain": [
       "{'NORMAL': 0, 'PNEUMONIA': 1}"
      ]
     },
     "execution_count": 8,
     "metadata": {},
     "output_type": "execute_result"
    }
   ],
   "source": [
    "# CHecking the 2 class catagories\n",
    "train_data.class_indices"
   ]
  },
  {
   "cell_type": "markdown",
   "id": "b53e2549-ccc7-4b6b-b165-625a701bf129",
   "metadata": {},
   "source": [
    "#### Val set generator"
   ]
  },
  {
   "cell_type": "code",
   "execution_count": 9,
   "id": "7da015e9-cba0-4ef6-9d18-e2045ecf23c4",
   "metadata": {},
   "outputs": [
    {
     "name": "stdout",
     "output_type": "stream",
     "text": [
      "Found 48 images belonging to 2 classes.\n"
     ]
    }
   ],
   "source": [
    "# Creating a Generator to input data into the model\n",
    "# Performing some data auigmentation as well\n",
    "\n",
    "valid = ImageDataGenerator(rescale=1/155)\n",
    "\n",
    "valid_data = valid.flow_from_directory(val_dir,\n",
    "                                       target_size=(image_size,image_size),\n",
    "                                       color_mode='grayscale',\n",
    "                                       class_mode='categorical',\n",
    "                                       batch_size=batch_size,\n",
    "                                       shuffle=True,\n",
    "                                      )"
   ]
  },
  {
   "cell_type": "markdown",
   "id": "538ef68e-4e24-4cd4-be99-605fcfdb40fb",
   "metadata": {},
   "source": [
    "#### Test set generator"
   ]
  },
  {
   "cell_type": "code",
   "execution_count": 10,
   "id": "365b1171-c3a4-4ebb-abf4-dab08b378d16",
   "metadata": {},
   "outputs": [
    {
     "name": "stdout",
     "output_type": "stream",
     "text": [
      "Found 624 images belonging to 2 classes.\n"
     ]
    }
   ],
   "source": [
    "# Creating a Generator to input data into the model\n",
    "# Performing some data auigmentation as well\n",
    "\n",
    "test = ImageDataGenerator(rescale=1/155)\n",
    "\n",
    "test_data = test.flow_from_directory(test_dir,\n",
    "                                       target_size=(image_size,image_size),\n",
    "                                       color_mode='grayscale',\n",
    "                                       class_mode='categorical',\n",
    "                                       batch_size=batch_size,\n",
    "                                       shuffle=False,\n",
    "                                      )"
   ]
  },
  {
   "cell_type": "code",
   "execution_count": null,
   "id": "c659067c-3d0d-4ecf-83e7-e34cf1dcb22a",
   "metadata": {},
   "outputs": [],
   "source": []
  },
  {
   "cell_type": "markdown",
   "id": "bd44e91e-8130-4bd6-8603-ffd150e87ee2",
   "metadata": {},
   "source": [
    "#### Call Back Functions"
   ]
  },
  {
   "cell_type": "code",
   "execution_count": 11,
   "id": "7207f2b7-b485-4db3-ac5c-a4a6b036e915",
   "metadata": {},
   "outputs": [],
   "source": [
    "# Defining call backs for early stoping\n",
    "early_stop = EarlyStopping(patience=5)\n",
    "\n",
    "reduce_lr = ReduceLROnPlateau(monitor='val_loss',\n",
    "    factor=0.1,\n",
    "    patience=3,\n",
    "    verbose=0,\n",
    "    mode='auto',\n",
    "    min_delta=0.0001,\n",
    "    cooldown=0,\n",
    "    min_lr=0.00001,)\n",
    "\n",
    "\n",
    "callbacks = [early_stop, reduce_lr]"
   ]
  },
  {
   "cell_type": "markdown",
   "id": "72ccdf10-50b3-490b-a9cd-66762a4e9479",
   "metadata": {},
   "source": [
    "# Model building\n",
    "## Model 1"
   ]
  },
  {
   "cell_type": "code",
   "execution_count": 12,
   "id": "f0364ebc-5a31-4a93-83ab-72ef1926d2b7",
   "metadata": {},
   "outputs": [
    {
     "name": "stdout",
     "output_type": "stream",
     "text": [
      "Model: \"sequential\"\n",
      "_________________________________________________________________\n",
      "Layer (type)                 Output Shape              Param #   \n",
      "=================================================================\n",
      "conv2d (Conv2D)              (None, 450, 450, 32)      320       \n",
      "_________________________________________________________________\n",
      "batch_normalization (BatchNo (None, 450, 450, 32)      128       \n",
      "_________________________________________________________________\n",
      "max_pooling2d (MaxPooling2D) (None, 225, 225, 32)      0         \n",
      "_________________________________________________________________\n",
      "dropout (Dropout)            (None, 225, 225, 32)      0         \n",
      "_________________________________________________________________\n",
      "conv2d_1 (Conv2D)            (None, 225, 225, 64)      18496     \n",
      "_________________________________________________________________\n",
      "batch_normalization_1 (Batch (None, 225, 225, 64)      256       \n",
      "_________________________________________________________________\n",
      "max_pooling2d_1 (MaxPooling2 (None, 112, 112, 64)      0         \n",
      "_________________________________________________________________\n",
      "dropout_1 (Dropout)          (None, 112, 112, 64)      0         \n",
      "_________________________________________________________________\n",
      "dense (Dense)                (None, 112, 112, 512)     33280     \n",
      "_________________________________________________________________\n",
      "flatten (Flatten)            (None, 6422528)           0         \n",
      "_________________________________________________________________\n",
      "dense_1 (Dense)              (None, 2)                 12845058  \n",
      "=================================================================\n",
      "Total params: 12,897,538\n",
      "Trainable params: 12,897,346\n",
      "Non-trainable params: 192\n",
      "_________________________________________________________________\n"
     ]
    }
   ],
   "source": [
    "model = Sequential()\n",
    "\n",
    "model.add(Conv2D(32,(3,3), input_shape=input_shape, activation='relu', padding='same'))\n",
    "model.add(BatchNormalization())\n",
    "model.add(MaxPool2D(2,2))\n",
    "model.add(Dropout(0.20))\n",
    "\n",
    "model.add(Conv2D(64,(3,3), activation='relu', padding='same'))\n",
    "model.add(BatchNormalization())\n",
    "model.add(MaxPool2D(2,2))\n",
    "model.add(Dropout(0.20))\n",
    "\n",
    "model.add(Dense(512, activation='relu'))\n",
    "\n",
    "model.add(Flatten())\n",
    "\n",
    "model.add(Dense(2, activation='softmax'))\n",
    "\n",
    "model.compile(loss = 'categorical_crossentropy', optimizer = 'adam', metrics = ['accuracy'])\n",
    "\n",
    "model.summary()"
   ]
  },
  {
   "cell_type": "code",
   "execution_count": 13,
   "id": "af9889a0-440a-43e8-81ca-3995afd13d1d",
   "metadata": {
    "tags": []
   },
   "outputs": [
    {
     "name": "stdout",
     "output_type": "stream",
     "text": [
      "Epoch 1/100\n",
      "260/260 [==============================] - 83s 285ms/step - loss: 18.5320 - accuracy: 0.8970 - val_loss: 11.8898 - val_accuracy: 0.6042\n",
      "Epoch 2/100\n",
      "260/260 [==============================] - 70s 270ms/step - loss: 1.1837 - accuracy: 0.9383 - val_loss: 2.9353 - val_accuracy: 0.8125\n",
      "Epoch 3/100\n",
      "260/260 [==============================] - 69s 265ms/step - loss: 0.3480 - accuracy: 0.9473 - val_loss: 1.1571 - val_accuracy: 0.8125\n",
      "Epoch 4/100\n",
      "260/260 [==============================] - 70s 269ms/step - loss: 0.1999 - accuracy: 0.9560 - val_loss: 1.4383 - val_accuracy: 0.8125\n",
      "Epoch 5/100\n",
      "260/260 [==============================] - 70s 269ms/step - loss: 0.1429 - accuracy: 0.9570 - val_loss: 6.9081 - val_accuracy: 0.5417\n",
      "Epoch 6/100\n",
      "260/260 [==============================] - 70s 269ms/step - loss: 0.1157 - accuracy: 0.9620 - val_loss: 0.9301 - val_accuracy: 0.7917\n",
      "Epoch 7/100\n",
      "260/260 [==============================] - 70s 268ms/step - loss: 0.1095 - accuracy: 0.9633 - val_loss: 15.4055 - val_accuracy: 0.5417\n",
      "Epoch 8/100\n",
      "260/260 [==============================] - 70s 269ms/step - loss: 0.1128 - accuracy: 0.9624 - val_loss: 8.1569 - val_accuracy: 0.6250\n",
      "Epoch 9/100\n",
      "260/260 [==============================] - 70s 269ms/step - loss: 0.1160 - accuracy: 0.9616 - val_loss: 4.8021 - val_accuracy: 0.6875\n",
      "Epoch 10/100\n",
      "260/260 [==============================] - 70s 271ms/step - loss: 0.0749 - accuracy: 0.9732 - val_loss: 1.3914 - val_accuracy: 0.8333\n",
      "Epoch 11/100\n",
      "260/260 [==============================] - 70s 269ms/step - loss: 0.0774 - accuracy: 0.9691 - val_loss: 2.1797 - val_accuracy: 0.8125\n"
     ]
    }
   ],
   "source": [
    "epochs = 100\n",
    "history = model.fit(train_data,\n",
    "                    epochs=epochs,\n",
    "                    callbacks=callbacks,\n",
    "                    validation_data=valid_data,\n",
    "                   )"
   ]
  },
  {
   "cell_type": "code",
   "execution_count": null,
   "id": "b6b89777-ef9d-4ba4-aa50-e0509917f065",
   "metadata": {},
   "outputs": [],
   "source": [
    "plt.plot(history.history['loss'])"
   ]
  },
  {
   "cell_type": "markdown",
   "id": "15bd05e3-06d1-4a2c-9fab-34b422111d1d",
   "metadata": {
    "jupyter": {
     "source_hidden": true
    },
    "tags": []
   },
   "source": [
    "## Predict on test"
   ]
  },
  {
   "cell_type": "code",
   "execution_count": null,
   "id": "16a4ab0b-885c-492e-b30a-9c5be39a2bb7",
   "metadata": {},
   "outputs": [],
   "source": [
    "pred = model.predict(test_data)"
   ]
  },
  {
   "cell_type": "markdown",
   "id": "cb45db1a-b933-47b0-8412-34233c9478dd",
   "metadata": {},
   "source": [
    "#### Pred df model 1"
   ]
  },
  {
   "cell_type": "code",
   "execution_count": null,
   "id": "492b0d4b-5df4-414c-9b32-6d17fcfb2ab8",
   "metadata": {},
   "outputs": [],
   "source": [
    "zero_index_pred = []\n",
    "for l in pred:\n",
    "    zero_index_pred.append(l[0])"
   ]
  },
  {
   "cell_type": "code",
   "execution_count": null,
   "id": "fb99076f-0f33-46e5-b8d8-6612020c4fc1",
   "metadata": {},
   "outputs": [],
   "source": [
    "model1_pred = df_test.copy()\n",
    "\n",
    "model1_pred['actual'] = model1_pred['Category'].apply(lambda x: 0 if x=='NORMAL' else 1)\n",
    "model1_pred['Pred_proba_Normal'] = zero_index_pred\n",
    "model1_pred['class_pred'] = model1_pred['Pred_proba'].apply(lambda x: 1 if x<0.5 else 0)\n",
    "\n",
    "model1_pred.head()"
   ]
  },
  {
   "cell_type": "code",
   "execution_count": null,
   "id": "2a00d2c8-0593-4798-8ad6-f973dc7b6af8",
   "metadata": {},
   "outputs": [],
   "source": [
    "confusion_matrix(model1_pred['actual'], model1_pred['class_pred'])"
   ]
  },
  {
   "cell_type": "code",
   "execution_count": null,
   "id": "5274afbe-a47a-46a8-8543-4a294901f6a4",
   "metadata": {},
   "outputs": [],
   "source": [
    "accuracy_score(model1_pred['actual'], model1_pred['class_pred'])"
   ]
  },
  {
   "cell_type": "code",
   "execution_count": null,
   "id": "197c8923-d1b9-4f07-88aa-e1829d24180a",
   "metadata": {},
   "outputs": [],
   "source": [
    "model.save('Model_1.h5')"
   ]
  },
  {
   "cell_type": "markdown",
   "id": "e2b5b46d-9b14-4732-8682-04f62caf790f",
   "metadata": {},
   "source": [
    "# Model 2\n",
    "- Increasing image size to 500 pixels\n",
    "- adding a 16 layer convolution at the beginning of the cnn\n",
    "- adding another dense layer of 1024\n",
    "- will increase batch size to see what fits"
   ]
  },
  {
   "cell_type": "code",
   "execution_count": null,
   "id": "934aa71b-6af3-4394-982b-6591069674ca",
   "metadata": {},
   "outputs": [],
   "source": [
    "batch_size = 16\n",
    "image_size = 500\n",
    "input_shape = (image_size,image_size,1)"
   ]
  },
  {
   "cell_type": "markdown",
   "id": "52ab4b9b-ef2e-4705-a680-60fc9bc724ad",
   "metadata": {},
   "source": [
    "### Generators"
   ]
  },
  {
   "cell_type": "code",
   "execution_count": null,
   "id": "0d90b960-434f-47d9-a3a6-e323faedb7aa",
   "metadata": {},
   "outputs": [],
   "source": [
    "train = ImageDataGenerator(rescale=1/155,\n",
    "                           rotation_range=15,\n",
    "                           zoom_range=0.05,\n",
    "                           horizontal_flip=True,\n",
    "                          )\n",
    "\n",
    "train_data = train.flow_from_directory(train_dir,\n",
    "                                       target_size=(image_size,image_size),\n",
    "                                       color_mode='grayscale',\n",
    "                                       class_mode='categorical',\n",
    "                                       batch_size=batch_size,\n",
    "                                       shuffle=True,\n",
    "                                      )"
   ]
  },
  {
   "cell_type": "code",
   "execution_count": null,
   "id": "28630c44-63e8-42e2-aada-8c82e2a4b27d",
   "metadata": {},
   "outputs": [],
   "source": [
    "valid = ImageDataGenerator(rescale=1/155)\n",
    "\n",
    "valid_data = valid.flow_from_directory(val_dir,\n",
    "                                       target_size=(image_size,image_size),\n",
    "                                       color_mode='grayscale',\n",
    "                                       class_mode='categorical',\n",
    "                                       batch_size=batch_size,\n",
    "                                       shuffle=True,\n",
    "                                      )"
   ]
  },
  {
   "cell_type": "code",
   "execution_count": null,
   "id": "ad1f7453-de0b-4ce9-9595-641585aed8ac",
   "metadata": {},
   "outputs": [],
   "source": [
    "test = ImageDataGenerator(rescale=1/155)\n",
    "\n",
    "test_data = test.flow_from_directory(test_dir,\n",
    "                                       target_size=(image_size,image_size),\n",
    "                                       color_mode='grayscale',\n",
    "                                       class_mode='categorical',\n",
    "                                       batch_size=batch_size,\n",
    "                                       shuffle=False,\n",
    "                                      )"
   ]
  },
  {
   "cell_type": "code",
   "execution_count": null,
   "id": "5fcb41ba-b831-4d0d-8682-c28f68c634cf",
   "metadata": {},
   "outputs": [],
   "source": [
    "# Defining call backs\n",
    "early_stop = EarlyStopping(patience=5)\n",
    "\n",
    "reduce_lr = ReduceLROnPlateau(monitor='val_loss',\n",
    "    factor=0.1,\n",
    "    patience=3,\n",
    "    verbose=0,\n",
    "    mode='auto',\n",
    "    min_delta=0.0001,\n",
    "    cooldown=0,\n",
    "    min_lr=0.00001,)\n",
    "\n",
    "\n",
    "callbacks = [early_stop, reduce_lr]"
   ]
  },
  {
   "cell_type": "markdown",
   "id": "8a0eb67f-a6b7-467f-a765-998131d596cb",
   "metadata": {},
   "source": [
    "### Model"
   ]
  },
  {
   "cell_type": "code",
   "execution_count": null,
   "id": "f4db7e21-b4bc-4e14-8384-d607f1312077",
   "metadata": {},
   "outputs": [],
   "source": [
    "model = Sequential()\n",
    "\n",
    "model.add(Conv2D(16,(3,3), input_shape=input_shape, activation='relu', padding='same'))\n",
    "model.add(BatchNormalization())\n",
    "model.add(MaxPool2D(2,2))\n",
    "model.add(Dropout(0.20))\n",
    "\n",
    "model.add(Conv2D(32,(3,3), activation='relu', padding='same'))\n",
    "model.add(BatchNormalization())\n",
    "model.add(MaxPool2D(2,2))\n",
    "model.add(Dropout(0.20))\n",
    "\n",
    "model.add(Conv2D(64,(3,3), activation='relu', padding='same'))\n",
    "model.add(BatchNormalization())\n",
    "model.add(MaxPool2D(2,2))\n",
    "model.add(Dropout(0.20))\n",
    "\n",
    "model.add(Dense(512, activation='relu'))\n",
    "\n",
    "model.add(Dense(1024, activation='relu'))\n",
    "\n",
    "model.add(Flatten())\n",
    "\n",
    "model.add(Dense(2, activation='softmax'))\n",
    "\n",
    "model.compile(loss = 'categorical_crossentropy', optimizer = 'adam', metrics = ['accuracy'])\n",
    "\n",
    "model.summary()"
   ]
  },
  {
   "cell_type": "code",
   "execution_count": null,
   "id": "c0faadaf-39aa-49f6-ae3b-51d0875063ce",
   "metadata": {},
   "outputs": [],
   "source": [
    "epochs = 100\n",
    "history = model.fit(train_data,\n",
    "                    epochs=epochs,\n",
    "                    callbacks=callbacks,\n",
    "                    validation_data=valid_data,\n",
    "                   )"
   ]
  },
  {
   "cell_type": "code",
   "execution_count": null,
   "id": "eb33874b-6bb5-4fad-beac-05707c67446f",
   "metadata": {},
   "outputs": [],
   "source": [
    "plt.plot(history.history['loss'])"
   ]
  },
  {
   "cell_type": "markdown",
   "id": "8497acc7-dc3b-4414-b43e-cc855df2d1c7",
   "metadata": {},
   "source": [
    "### Prediction and evaluation"
   ]
  },
  {
   "cell_type": "code",
   "execution_count": null,
   "id": "c070002c-9851-4a8b-932f-4160a4256256",
   "metadata": {},
   "outputs": [],
   "source": [
    "pred = model.predict(test_data)"
   ]
  },
  {
   "cell_type": "code",
   "execution_count": null,
   "id": "af2b370a-2ef3-4733-8c55-fe973aafb638",
   "metadata": {},
   "outputs": [],
   "source": [
    "zero_index_pred = []\n",
    "for l in pred:\n",
    "    zero_index_pred.append(l[0])"
   ]
  },
  {
   "cell_type": "code",
   "execution_count": null,
   "id": "1773fb3d-dde3-4642-93a1-6516c381ee89",
   "metadata": {},
   "outputs": [],
   "source": [
    "model2_pred = df_test.copy()\n",
    "\n",
    "model2_pred['actual'] = model2_pred['Category'].apply(lambda x: 0 if x=='NORMAL' else 1)\n",
    "model2_pred['Pred_proba_Normal'] = zero_index_pred\n",
    "model2_pred['class_pred'] = model2_pred['Pred_proba_Normal'].apply(lambda x: 1 if x<0.5 else 0)\n",
    "\n",
    "model2_pred.head()"
   ]
  },
  {
   "cell_type": "code",
   "execution_count": null,
   "id": "694d073f-e8f8-4ccd-bdbb-6392a75817fd",
   "metadata": {
    "tags": []
   },
   "outputs": [],
   "source": [
    "confusion_matrix(model2_pred['actual'], model2_pred['class_pred'])"
   ]
  },
  {
   "cell_type": "code",
   "execution_count": null,
   "id": "f990e390-145a-442a-8a02-37099b23fdb2",
   "metadata": {},
   "outputs": [],
   "source": [
    "accuracy_score(model2_pred['actual'], model2_pred['class_pred'])"
   ]
  },
  {
   "cell_type": "code",
   "execution_count": null,
   "id": "98c3afbc-ca0b-42e7-b4da-ec0184d1a746",
   "metadata": {},
   "outputs": [],
   "source": [
    "model_2 = model.save('model_2.h5')"
   ]
  },
  {
   "cell_type": "code",
   "execution_count": null,
   "id": "f7213091-cbb1-4fdf-9765-27b940fbc777",
   "metadata": {},
   "outputs": [],
   "source": []
  },
  {
   "cell_type": "markdown",
   "id": "e3dae175-d6c9-4d3c-be5d-44ce095b92cc",
   "metadata": {},
   "source": [
    "# Model 3\n",
    "### ALso just realized that the rescaling factor was 155. It should be 255. Changing that. Ooops\n",
    "- Decreasing Batch size seemed to increase model performance.\n",
    "- Will change batch size to 8\n",
    "- Adding anotheer conv layer of 128\n",
    "- will increase batch size to see what fits"
   ]
  },
  {
   "cell_type": "code",
   "execution_count": null,
   "id": "126ae4b9-3b45-4513-934f-8b0cb2cbcdda",
   "metadata": {},
   "outputs": [],
   "source": [
    "batch_size = 8\n",
    "image_size = 500\n",
    "input_shape = (image_size,image_size,1)"
   ]
  },
  {
   "cell_type": "markdown",
   "id": "f1a39cb3-96f7-4fd3-a3e6-a960ec0cfc47",
   "metadata": {},
   "source": [
    "### Generators"
   ]
  },
  {
   "cell_type": "code",
   "execution_count": null,
   "id": "d4ff903b-d12b-48b9-97d1-d45b3b25f6b8",
   "metadata": {},
   "outputs": [],
   "source": [
    "train = ImageDataGenerator(rescale=1/255,\n",
    "                           rotation_range=15,\n",
    "                           zoom_range=0.05,\n",
    "                           horizontal_flip=True,\n",
    "                          )\n",
    "\n",
    "train_data = train.flow_from_directory(train_dir,\n",
    "                                       target_size=(image_size,image_size),\n",
    "                                       color_mode='grayscale',\n",
    "                                       class_mode='categorical',\n",
    "                                       batch_size=batch_size,\n",
    "                                       shuffle=True,\n",
    "                                      )"
   ]
  },
  {
   "cell_type": "code",
   "execution_count": null,
   "id": "39df8b50-d429-4d95-9e70-03b017f56d5d",
   "metadata": {},
   "outputs": [],
   "source": [
    "valid = ImageDataGenerator(rescale=1/255)\n",
    "\n",
    "valid_data = valid.flow_from_directory(val_dir,\n",
    "                                       target_size=(image_size,image_size),\n",
    "                                       color_mode='grayscale',\n",
    "                                       class_mode='categorical',\n",
    "                                       batch_size=batch_size,\n",
    "                                       shuffle=True,\n",
    "                                      )"
   ]
  },
  {
   "cell_type": "code",
   "execution_count": null,
   "id": "7180a02b-e161-4344-b66b-77586b173c64",
   "metadata": {},
   "outputs": [],
   "source": [
    "test = ImageDataGenerator(rescale=1/255)\n",
    "\n",
    "test_data = test.flow_from_directory(test_dir,\n",
    "                                       target_size=(image_size,image_size),\n",
    "                                       color_mode='grayscale',\n",
    "                                       class_mode='categorical',\n",
    "                                       batch_size=batch_size,\n",
    "                                       shuffle=False,\n",
    "                                      )"
   ]
  },
  {
   "cell_type": "code",
   "execution_count": null,
   "id": "59b6ebe6-5edc-4f82-bcc4-d088b5a9eb4c",
   "metadata": {},
   "outputs": [],
   "source": [
    "# Defining call backs\n",
    "early_stop = EarlyStopping(patience=5)\n",
    "\n",
    "reduce_lr = ReduceLROnPlateau(monitor='val_loss',\n",
    "    factor=0.1,\n",
    "    patience=3,\n",
    "    verbose=0,\n",
    "    mode='auto',\n",
    "    min_delta=0.0001,\n",
    "    cooldown=0,\n",
    "    min_lr=0.00001,)\n",
    "\n",
    "\n",
    "callbacks = [early_stop, reduce_lr]"
   ]
  },
  {
   "cell_type": "markdown",
   "id": "86e09c11-142b-4f3c-97f3-af28dd420bf6",
   "metadata": {},
   "source": [
    "### Model"
   ]
  },
  {
   "cell_type": "code",
   "execution_count": null,
   "id": "0668dab9-8591-4f64-9010-d0e60c7a5450",
   "metadata": {},
   "outputs": [],
   "source": [
    "model = Sequential()\n",
    "\n",
    "model.add(Conv2D(16,(3,3), input_shape=input_shape, activation='relu', padding='same'))\n",
    "model.add(BatchNormalization())\n",
    "model.add(MaxPool2D(2,2))\n",
    "model.add(Dropout(0.20))\n",
    "\n",
    "model.add(Conv2D(32,(3,3), activation='relu', padding='same'))\n",
    "model.add(BatchNormalization())\n",
    "model.add(MaxPool2D(2,2))\n",
    "model.add(Dropout(0.20))\n",
    "\n",
    "model.add(Conv2D(64,(3,3), activation='relu', padding='same'))\n",
    "model.add(BatchNormalization())\n",
    "model.add(MaxPool2D(2,2))\n",
    "model.add(Dropout(0.20))\n",
    "\n",
    "model.add(Conv2D(128,(3,3), activation='relu', padding='same'))\n",
    "model.add(BatchNormalization())\n",
    "model.add(MaxPool2D(2,2))\n",
    "model.add(Dropout(0.20))\n",
    "\n",
    "model.add(Dense(512, activation='relu'))\n",
    "\n",
    "model.add(Dense(1024, activation='relu'))\n",
    "\n",
    "model.add(Flatten())\n",
    "\n",
    "model.add(Dense(2, activation='softmax'))\n",
    "\n",
    "model.compile(loss = 'categorical_crossentropy', optimizer = 'adam', metrics = ['accuracy'])\n",
    "\n",
    "model.summary()"
   ]
  },
  {
   "cell_type": "code",
   "execution_count": null,
   "id": "b31f27c8-a163-4e00-9e18-314c7bbc20b8",
   "metadata": {},
   "outputs": [],
   "source": [
    "epochs = 100\n",
    "history = model.fit(train_data,\n",
    "                    epochs=epochs,\n",
    "                    callbacks=callbacks,\n",
    "                    validation_data=valid_data,\n",
    "                   )"
   ]
  },
  {
   "cell_type": "code",
   "execution_count": null,
   "id": "43441ac2-33de-4636-a139-6b459be5adec",
   "metadata": {},
   "outputs": [],
   "source": [
    "plt.plot(history.history['loss'])"
   ]
  },
  {
   "cell_type": "markdown",
   "id": "c84a4954-556b-4571-9642-43b0a4e04fcf",
   "metadata": {},
   "source": [
    "### Prediction and evaluation"
   ]
  },
  {
   "cell_type": "code",
   "execution_count": null,
   "id": "907ea9bb-c5d1-4227-8716-01c9a0e6dc2f",
   "metadata": {},
   "outputs": [],
   "source": [
    "pred = model.predict(test_data)"
   ]
  },
  {
   "cell_type": "code",
   "execution_count": null,
   "id": "50ca9b06-cf56-4d0b-93a7-632a8ffa9c27",
   "metadata": {},
   "outputs": [],
   "source": [
    "zero_index_pred = []\n",
    "for l in pred:\n",
    "    zero_index_pred.append(l[0])"
   ]
  },
  {
   "cell_type": "code",
   "execution_count": null,
   "id": "efc63532-5742-429e-b632-325af15a4c02",
   "metadata": {},
   "outputs": [],
   "source": [
    "model3_pred = df_test.copy()\n",
    "\n",
    "model3_pred['actual'] = model3_pred['Category'].apply(lambda x: 0 if x=='NORMAL' else 1)\n",
    "model3_pred['Pred_proba_Normal'] = zero_index_pred\n",
    "model3_pred['class_pred'] = model3_pred['Pred_proba_Normal'].apply(lambda x: 1 if x<0.5 else 0)\n",
    "\n",
    "model3_pred.head()"
   ]
  },
  {
   "cell_type": "code",
   "execution_count": null,
   "id": "b4528e4b-b941-4ba9-9200-54e5ba5b19d9",
   "metadata": {
    "tags": []
   },
   "outputs": [],
   "source": [
    "confusion_matrix(model3_pred['actual'], model3_pred['class_pred'])"
   ]
  },
  {
   "cell_type": "code",
   "execution_count": null,
   "id": "d77b894f-99cd-4663-914a-5ceecbe232e4",
   "metadata": {},
   "outputs": [],
   "source": [
    "accuracy_score(model3_pred['actual'], model3_pred['class_pred'])"
   ]
  },
  {
   "cell_type": "markdown",
   "id": "7cd124ac-178d-4833-95cc-383b76b8038e",
   "metadata": {},
   "source": [
    "- So it seems like complex models perform poorly"
   ]
  },
  {
   "cell_type": "markdown",
   "id": "3625cafb-be67-4390-814a-581fde476290",
   "metadata": {},
   "source": [
    "# Model 4\n",
    "- Will build a simpler model"
   ]
  },
  {
   "cell_type": "code",
   "execution_count": null,
   "id": "41dc1913-58b8-4e6e-90f4-a5f6d6cba74b",
   "metadata": {},
   "outputs": [],
   "source": [
    "batch_size = 8\n",
    "image_size = 500\n",
    "input_shape = (image_size,image_size,1)"
   ]
  },
  {
   "cell_type": "markdown",
   "id": "be05be9c-dc0c-4c59-8546-a5e83dfc649f",
   "metadata": {},
   "source": [
    "### Generators"
   ]
  },
  {
   "cell_type": "code",
   "execution_count": null,
   "id": "af69ff3c-ba98-4385-9b08-283fed6b83fb",
   "metadata": {},
   "outputs": [],
   "source": [
    "train = ImageDataGenerator(rescale=1/255,\n",
    "                           rotation_range=15,\n",
    "                           zoom_range=0.05,\n",
    "                           horizontal_flip=True,\n",
    "                          )\n",
    "\n",
    "train_data = train.flow_from_directory(train_dir,\n",
    "                                       target_size=(image_size,image_size),\n",
    "                                       color_mode='grayscale',\n",
    "                                       class_mode='categorical',\n",
    "                                       batch_size=batch_size,\n",
    "                                       shuffle=True,\n",
    "                                      )"
   ]
  },
  {
   "cell_type": "code",
   "execution_count": null,
   "id": "0b148fbe-2d46-4558-a28c-fb7ba78c3a89",
   "metadata": {},
   "outputs": [],
   "source": [
    "valid = ImageDataGenerator(rescale=1/255)\n",
    "\n",
    "valid_data = valid.flow_from_directory(val_dir,\n",
    "                                       target_size=(image_size,image_size),\n",
    "                                       color_mode='grayscale',\n",
    "                                       class_mode='categorical',\n",
    "                                       batch_size=batch_size,\n",
    "                                       shuffle=True,\n",
    "                                      )"
   ]
  },
  {
   "cell_type": "code",
   "execution_count": null,
   "id": "5d6e8e60-b812-4e99-b9b6-2cf68ec914f4",
   "metadata": {},
   "outputs": [],
   "source": [
    "test = ImageDataGenerator(rescale=1/255)\n",
    "\n",
    "test_data = test.flow_from_directory(test_dir,\n",
    "                                       target_size=(image_size,image_size),\n",
    "                                       color_mode='grayscale',\n",
    "                                       class_mode='categorical',\n",
    "                                       batch_size=batch_size,\n",
    "                                       shuffle=False,\n",
    "                                      )"
   ]
  },
  {
   "cell_type": "code",
   "execution_count": null,
   "id": "0e4c88af-5050-4e9e-a465-8c4aca36dbdd",
   "metadata": {},
   "outputs": [],
   "source": [
    "# Defining call backs\n",
    "early_stop = EarlyStopping(patience=5)\n",
    "\n",
    "reduce_lr = ReduceLROnPlateau(monitor='val_loss',\n",
    "    factor=0.1,\n",
    "    patience=3,\n",
    "    verbose=0,\n",
    "    mode='auto',\n",
    "    min_delta=0.0001,\n",
    "    cooldown=0,\n",
    "    min_lr=0.00001,)\n",
    "\n",
    "\n",
    "callbacks = [early_stop, reduce_lr]"
   ]
  },
  {
   "cell_type": "markdown",
   "id": "d1685711-b5a3-48a9-9322-fa1158b513c4",
   "metadata": {},
   "source": [
    "### Model"
   ]
  },
  {
   "cell_type": "code",
   "execution_count": null,
   "id": "6f58fd1f-5b0b-4ac4-b4da-eb3012396a03",
   "metadata": {},
   "outputs": [],
   "source": [
    "model = Sequential()\n",
    "\n",
    "model.add(Conv2D(16,(3,3), input_shape=input_shape, activation='relu', padding='same'))\n",
    "model.add(BatchNormalization())\n",
    "model.add(MaxPool2D(2,2))\n",
    "model.add(Dropout(0.20))\n",
    "\n",
    "model.add(Conv2D(32,(3,3), activation='relu', padding='same'))\n",
    "model.add(BatchNormalization())\n",
    "model.add(MaxPool2D(2,2))\n",
    "model.add(Dropout(0.20))\n",
    "\n",
    "model.add(Dense(512, activation='relu'))\n",
    "\n",
    "model.add(Dense(1024, activation='relu'))\n",
    "\n",
    "model.add(Flatten())\n",
    "\n",
    "model.add(Dense(2, activation='softmax'))\n",
    "\n",
    "model.compile(loss = 'categorical_crossentropy', optimizer = 'adam', metrics = ['accuracy'])\n",
    "\n",
    "model.summary()"
   ]
  },
  {
   "cell_type": "code",
   "execution_count": null,
   "id": "f3fbb4af-834f-44de-b486-fdc44ec7d871",
   "metadata": {},
   "outputs": [],
   "source": [
    "epochs = 100\n",
    "history = model.fit(train_data,\n",
    "                    epochs=epochs,\n",
    "                    callbacks=callbacks,\n",
    "                    validation_data=valid_data,\n",
    "                   )"
   ]
  },
  {
   "cell_type": "code",
   "execution_count": null,
   "id": "f091feb8-96a1-45d4-8e8a-b447ee14e298",
   "metadata": {},
   "outputs": [],
   "source": [
    "plt.plot(history.history['loss'])"
   ]
  },
  {
   "cell_type": "markdown",
   "id": "2852683b-621c-46da-9b37-0df0904c7590",
   "metadata": {},
   "source": [
    "### Prediction and evaluation"
   ]
  },
  {
   "cell_type": "code",
   "execution_count": null,
   "id": "a63ac119-2721-453c-a550-3ad1b5feac40",
   "metadata": {},
   "outputs": [],
   "source": [
    "pred = model.predict(test_data)"
   ]
  },
  {
   "cell_type": "code",
   "execution_count": null,
   "id": "654ee490-2aa8-4862-a654-ead0b5ddb1c5",
   "metadata": {},
   "outputs": [],
   "source": [
    "zero_index_pred = []\n",
    "for l in pred:\n",
    "    zero_index_pred.append(l[0])"
   ]
  },
  {
   "cell_type": "code",
   "execution_count": null,
   "id": "bfdc79ca-6629-4b49-b6cc-c7768815e12b",
   "metadata": {},
   "outputs": [],
   "source": [
    "model4_pred = df_test.copy()\n",
    "\n",
    "model4_pred['actual'] = model4_pred['Category'].apply(lambda x: 0 if x=='NORMAL' else 1)\n",
    "model4_pred['Pred_proba_Normal'] = zero_index_pred\n",
    "model4_pred['class_pred'] = model4_pred['Pred_proba_Normal'].apply(lambda x: 1 if x<0.5 else 0)\n",
    "\n",
    "model4_pred.head()"
   ]
  },
  {
   "cell_type": "code",
   "execution_count": null,
   "id": "85cb394d-f7be-470d-af39-bfc4aa030082",
   "metadata": {
    "tags": []
   },
   "outputs": [],
   "source": [
    "confusion_matrix(model4_pred['actual'], model4_pred['class_pred'])"
   ]
  },
  {
   "cell_type": "code",
   "execution_count": null,
   "id": "1b6e4361-444c-4b1a-a1ef-f19c34fda138",
   "metadata": {},
   "outputs": [],
   "source": [
    "accuracy_score(model4_pred['actual'], model4_pred['class_pred'])"
   ]
  },
  {
   "cell_type": "markdown",
   "id": "90f188a8-821b-43a8-ae11-bea0bc5ef700",
   "metadata": {},
   "source": [
    "- Seemes like a simple model works better"
   ]
  },
  {
   "cell_type": "markdown",
   "id": "bec0bfec-9401-4d21-97f5-b4e16fad2f61",
   "metadata": {},
   "source": [
    "# Model 5\n",
    "- Looked up models online\n",
    "- Getting performance of 90+%\n",
    "- They are using a bit more complex models but a smaller image size\n",
    "- Trying image size of 250"
   ]
  },
  {
   "cell_type": "code",
   "execution_count": 6,
   "id": "c9ea6813-693d-427f-a0d8-902e8680b03e",
   "metadata": {},
   "outputs": [],
   "source": [
    "batch_size = 16\n",
    "image_size = 250\n",
    "input_shape = (image_size,image_size,1)"
   ]
  },
  {
   "cell_type": "markdown",
   "id": "3e64dd03-2a85-431c-886f-f587e026eaa4",
   "metadata": {},
   "source": [
    "### Generators"
   ]
  },
  {
   "cell_type": "code",
   "execution_count": 7,
   "id": "1d2d34ab-fc2e-4a83-b23a-2127b1321e2d",
   "metadata": {},
   "outputs": [
    {
     "name": "stdout",
     "output_type": "stream",
     "text": [
      "Found 5184 images belonging to 2 classes.\n"
     ]
    }
   ],
   "source": [
    "train = ImageDataGenerator(rescale=1/255,\n",
    "                           rotation_range=15,\n",
    "                           zoom_range=0.05,\n",
    "                           horizontal_flip=True,\n",
    "                          )\n",
    "\n",
    "train_data = train.flow_from_directory(train_dir,\n",
    "                                       target_size=(image_size,image_size),\n",
    "                                       color_mode='grayscale',\n",
    "                                       class_mode='categorical',\n",
    "                                       batch_size=batch_size,\n",
    "                                       shuffle=True,\n",
    "                                      )"
   ]
  },
  {
   "cell_type": "code",
   "execution_count": 8,
   "id": "d0f4d24f-b695-441c-9c35-168a2ed924d8",
   "metadata": {},
   "outputs": [
    {
     "name": "stdout",
     "output_type": "stream",
     "text": [
      "Found 48 images belonging to 2 classes.\n"
     ]
    }
   ],
   "source": [
    "valid = ImageDataGenerator(rescale=1/255)\n",
    "\n",
    "valid_data = valid.flow_from_directory(val_dir,\n",
    "                                       target_size=(image_size,image_size),\n",
    "                                       color_mode='grayscale',\n",
    "                                       class_mode='categorical',\n",
    "                                       batch_size=batch_size,\n",
    "                                       shuffle=True,\n",
    "                                      )"
   ]
  },
  {
   "cell_type": "code",
   "execution_count": 9,
   "id": "212281bf-8da8-41a4-b124-e650d3897cbd",
   "metadata": {},
   "outputs": [
    {
     "name": "stdout",
     "output_type": "stream",
     "text": [
      "Found 624 images belonging to 2 classes.\n"
     ]
    }
   ],
   "source": [
    "test = ImageDataGenerator(rescale=1/255)\n",
    "\n",
    "test_data = test.flow_from_directory(test_dir,\n",
    "                                       target_size=(image_size,image_size),\n",
    "                                       color_mode='grayscale',\n",
    "                                       class_mode='categorical',\n",
    "                                       batch_size=batch_size,\n",
    "                                       shuffle=False,\n",
    "                                      )"
   ]
  },
  {
   "cell_type": "code",
   "execution_count": 10,
   "id": "c9c6e748-c8e1-4891-8028-7be4d9191755",
   "metadata": {},
   "outputs": [],
   "source": [
    "# Defining call backs\n",
    "early_stop = EarlyStopping(patience=5)\n",
    "\n",
    "reduce_lr = ReduceLROnPlateau(monitor='val_loss',\n",
    "    factor=0.1,\n",
    "    patience=3,\n",
    "    verbose=0,\n",
    "    mode='auto',\n",
    "    min_delta=0.0001,\n",
    "    cooldown=0,\n",
    "    min_lr=0.00001,)\n",
    "\n",
    "\n",
    "callbacks = [early_stop, reduce_lr]"
   ]
  },
  {
   "cell_type": "markdown",
   "id": "8e9158d2-45ca-483d-b0bc-4e51c4fb4157",
   "metadata": {},
   "source": [
    "### Model"
   ]
  },
  {
   "cell_type": "code",
   "execution_count": 11,
   "id": "e82904d6-8963-44d6-8eaa-95f4f3d81d0e",
   "metadata": {},
   "outputs": [
    {
     "name": "stdout",
     "output_type": "stream",
     "text": [
      "Model: \"sequential\"\n",
      "_________________________________________________________________\n",
      "Layer (type)                 Output Shape              Param #   \n",
      "=================================================================\n",
      "conv2d (Conv2D)              (None, 250, 250, 16)      160       \n",
      "_________________________________________________________________\n",
      "batch_normalization (BatchNo (None, 250, 250, 16)      64        \n",
      "_________________________________________________________________\n",
      "max_pooling2d (MaxPooling2D) (None, 125, 125, 16)      0         \n",
      "_________________________________________________________________\n",
      "dropout (Dropout)            (None, 125, 125, 16)      0         \n",
      "_________________________________________________________________\n",
      "conv2d_1 (Conv2D)            (None, 125, 125, 32)      4640      \n",
      "_________________________________________________________________\n",
      "batch_normalization_1 (Batch (None, 125, 125, 32)      128       \n",
      "_________________________________________________________________\n",
      "max_pooling2d_1 (MaxPooling2 (None, 62, 62, 32)        0         \n",
      "_________________________________________________________________\n",
      "dropout_1 (Dropout)          (None, 62, 62, 32)        0         \n",
      "_________________________________________________________________\n",
      "conv2d_2 (Conv2D)            (None, 62, 62, 64)        18496     \n",
      "_________________________________________________________________\n",
      "batch_normalization_2 (Batch (None, 62, 62, 64)        256       \n",
      "_________________________________________________________________\n",
      "max_pooling2d_2 (MaxPooling2 (None, 31, 31, 64)        0         \n",
      "_________________________________________________________________\n",
      "dropout_2 (Dropout)          (None, 31, 31, 64)        0         \n",
      "_________________________________________________________________\n",
      "dense (Dense)                (None, 31, 31, 512)       33280     \n",
      "_________________________________________________________________\n",
      "dense_1 (Dense)              (None, 31, 31, 1024)      525312    \n",
      "_________________________________________________________________\n",
      "flatten (Flatten)            (None, 984064)            0         \n",
      "_________________________________________________________________\n",
      "dense_2 (Dense)              (None, 2)                 1968130   \n",
      "=================================================================\n",
      "Total params: 2,550,466\n",
      "Trainable params: 2,550,242\n",
      "Non-trainable params: 224\n",
      "_________________________________________________________________\n"
     ]
    }
   ],
   "source": [
    "model = Sequential()\n",
    "\n",
    "model.add(Conv2D(16,(3,3), input_shape=input_shape, activation='relu', padding='same'))\n",
    "model.add(BatchNormalization())\n",
    "model.add(MaxPool2D(2,2))\n",
    "model.add(Dropout(0.20))\n",
    "\n",
    "model.add(Conv2D(32,(3,3), activation='relu', padding='same'))\n",
    "model.add(BatchNormalization())\n",
    "model.add(MaxPool2D(2,2))\n",
    "model.add(Dropout(0.20))\n",
    "\n",
    "model.add(Conv2D(64,(3,3), activation='relu', padding='same'))\n",
    "model.add(BatchNormalization())\n",
    "model.add(MaxPool2D(2,2))\n",
    "model.add(Dropout(0.20))\n",
    "\n",
    "model.add(Dense(512, activation='relu'))\n",
    "\n",
    "model.add(Dense(1024, activation='relu'))\n",
    "\n",
    "model.add(Flatten())\n",
    "\n",
    "model.add(Dense(2, activation='softmax'))\n",
    "\n",
    "model.compile(loss = 'categorical_crossentropy', optimizer = 'adam', metrics = ['accuracy'])\n",
    "\n",
    "model.summary()"
   ]
  },
  {
   "cell_type": "code",
   "execution_count": 12,
   "id": "d133df02-6b3a-4ae9-b5e7-124ce3d55139",
   "metadata": {},
   "outputs": [
    {
     "name": "stdout",
     "output_type": "stream",
     "text": [
      "Epoch 1/100\n",
      "324/324 [==============================] - 42s 107ms/step - loss: 0.5431 - accuracy: 0.9107 - val_loss: 6.8163 - val_accuracy: 0.5000\n",
      "Epoch 2/100\n",
      "324/324 [==============================] - 31s 96ms/step - loss: 0.1221 - accuracy: 0.9554 - val_loss: 4.3944 - val_accuracy: 0.5417\n",
      "Epoch 3/100\n",
      "324/324 [==============================] - 30s 94ms/step - loss: 0.1232 - accuracy: 0.9541 - val_loss: 0.6050 - val_accuracy: 0.8333\n",
      "Epoch 4/100\n",
      "324/324 [==============================] - 30s 92ms/step - loss: 0.1037 - accuracy: 0.9632 - val_loss: 0.9241 - val_accuracy: 0.8125\n",
      "Epoch 5/100\n",
      "324/324 [==============================] - 30s 93ms/step - loss: 0.1149 - accuracy: 0.9583 - val_loss: 0.4663 - val_accuracy: 0.8333\n",
      "Epoch 6/100\n",
      "324/324 [==============================] - 30s 92ms/step - loss: 0.1071 - accuracy: 0.9622 - val_loss: 0.5427 - val_accuracy: 0.8333\n",
      "Epoch 7/100\n",
      "324/324 [==============================] - 30s 93ms/step - loss: 0.1045 - accuracy: 0.9618 - val_loss: 1.0069 - val_accuracy: 0.6250\n",
      "Epoch 8/100\n",
      "324/324 [==============================] - 30s 92ms/step - loss: 0.0986 - accuracy: 0.9643 - val_loss: 0.3782 - val_accuracy: 0.7917\n",
      "Epoch 9/100\n",
      "324/324 [==============================] - 30s 94ms/step - loss: 0.1001 - accuracy: 0.9664 - val_loss: 1.1549 - val_accuracy: 0.7292\n",
      "Epoch 10/100\n",
      "324/324 [==============================] - 30s 94ms/step - loss: 0.0911 - accuracy: 0.9653 - val_loss: 0.4132 - val_accuracy: 0.8542\n",
      "Epoch 11/100\n",
      "324/324 [==============================] - 30s 93ms/step - loss: 0.0908 - accuracy: 0.9695 - val_loss: 0.4572 - val_accuracy: 0.8542\n",
      "Epoch 12/100\n",
      "324/324 [==============================] - 30s 92ms/step - loss: 0.0657 - accuracy: 0.9774 - val_loss: 0.4108 - val_accuracy: 0.8542\n",
      "Epoch 13/100\n",
      "324/324 [==============================] - 30s 93ms/step - loss: 0.0627 - accuracy: 0.9769 - val_loss: 0.6333 - val_accuracy: 0.8333\n"
     ]
    }
   ],
   "source": [
    "epochs = 100\n",
    "history = model.fit(train_data,\n",
    "                    epochs=epochs,\n",
    "                    callbacks=callbacks,\n",
    "                    validation_data=valid_data,\n",
    "                   )"
   ]
  },
  {
   "cell_type": "code",
   "execution_count": 13,
   "id": "cc783179-0c16-4c76-9e09-df548e9b36a2",
   "metadata": {},
   "outputs": [
    {
     "data": {
      "text/plain": [
       "[<matplotlib.lines.Line2D at 0x247e2d414c0>]"
      ]
     },
     "execution_count": 13,
     "metadata": {},
     "output_type": "execute_result"
    },
    {
     "data": {
      "image/png": "[encoded data removed]",
      "text/plain": [
       "<Figure size 432x288 with 1 Axes>"
      ]
     },
     "metadata": {
      "needs_background": "light"
     },
     "output_type": "display_data"
    }
   ],
   "source": [
    "plt.plot(history.history['loss'])"
   ]
  },
  {
   "cell_type": "markdown",
   "id": "4f7ab606-14c6-4459-a255-7d7cd201e468",
   "metadata": {},
   "source": [
    "### Prediction and evaluation"
   ]
  },
  {
   "cell_type": "code",
   "execution_count": 14,
   "id": "3d869037-e1ac-4ce6-85fe-91381ae3cd81",
   "metadata": {},
   "outputs": [],
   "source": [
    "pred = model.predict(test_data)"
   ]
  },
  {
   "cell_type": "code",
   "execution_count": 15,
   "id": "57b65249-b573-4668-be37-77c97f7480e0",
   "metadata": {},
   "outputs": [],
   "source": [
    "zero_index_pred = []\n",
    "for l in pred:\n",
    "    zero_index_pred.append(l[0])"
   ]
  },
  {
   "cell_type": "code",
   "execution_count": 16,
   "id": "79ce532b-8c28-444e-9546-8aebc3bdfc07",
   "metadata": {},
   "outputs": [
    {
     "data": {
      "text/html": [
       "<div>\n",
       "<style scoped>\n",
       "    .dataframe tbody tr th:only-of-type {\n",
       "        vertical-align: middle;\n",
       "    }\n",
       "\n",
       "    .dataframe tbody tr th {\n",
       "        vertical-align: top;\n",
       "    }\n",
       "\n",
       "    .dataframe thead th {\n",
       "        text-align: right;\n",
       "    }\n",
       "</style>\n",
       "<table border=\"1\" class=\"dataframe\">\n",
       "  <thead>\n",
       "    <tr style=\"text-align: right;\">\n",
       "      <th></th>\n",
       "      <th>Paths</th>\n",
       "      <th>File</th>\n",
       "      <th>Category</th>\n",
       "      <th>actual</th>\n",
       "      <th>Pred_proba_Normal</th>\n",
       "      <th>class_pred</th>\n",
       "    </tr>\n",
       "  </thead>\n",
       "  <tbody>\n",
       "    <tr>\n",
       "      <th>0</th>\n",
       "      <td>C:\\Users\\Amit\\Desktop\\ML Projects\\Chest X-ray ...</td>\n",
       "      <td>IM-0001-0001.jpeg</td>\n",
       "      <td>NORMAL</td>\n",
       "      <td>0</td>\n",
       "      <td>0.967120</td>\n",
       "      <td>0</td>\n",
       "    </tr>\n",
       "    <tr>\n",
       "      <th>1</th>\n",
       "      <td>C:\\Users\\Amit\\Desktop\\ML Projects\\Chest X-ray ...</td>\n",
       "      <td>IM-0003-0001.jpeg</td>\n",
       "      <td>NORMAL</td>\n",
       "      <td>0</td>\n",
       "      <td>0.349138</td>\n",
       "      <td>1</td>\n",
       "    </tr>\n",
       "    <tr>\n",
       "      <th>2</th>\n",
       "      <td>C:\\Users\\Amit\\Desktop\\ML Projects\\Chest X-ray ...</td>\n",
       "      <td>IM-0005-0001.jpeg</td>\n",
       "      <td>NORMAL</td>\n",
       "      <td>0</td>\n",
       "      <td>0.449169</td>\n",
       "      <td>1</td>\n",
       "    </tr>\n",
       "    <tr>\n",
       "      <th>3</th>\n",
       "      <td>C:\\Users\\Amit\\Desktop\\ML Projects\\Chest X-ray ...</td>\n",
       "      <td>IM-0006-0001.jpeg</td>\n",
       "      <td>NORMAL</td>\n",
       "      <td>0</td>\n",
       "      <td>0.742099</td>\n",
       "      <td>0</td>\n",
       "    </tr>\n",
       "    <tr>\n",
       "      <th>4</th>\n",
       "      <td>C:\\Users\\Amit\\Desktop\\ML Projects\\Chest X-ray ...</td>\n",
       "      <td>IM-0007-0001.jpeg</td>\n",
       "      <td>NORMAL</td>\n",
       "      <td>0</td>\n",
       "      <td>0.988462</td>\n",
       "      <td>0</td>\n",
       "    </tr>\n",
       "  </tbody>\n",
       "</table>\n",
       "</div>"
      ],
      "text/plain": [
       "                                               Paths               File  \\\n",
       "0  C:\\Users\\Amit\\Desktop\\ML Projects\\Chest X-ray ...  IM-0001-0001.jpeg   \n",
       "1  C:\\Users\\Amit\\Desktop\\ML Projects\\Chest X-ray ...  IM-0003-0001.jpeg   \n",
       "2  C:\\Users\\Amit\\Desktop\\ML Projects\\Chest X-ray ...  IM-0005-0001.jpeg   \n",
       "3  C:\\Users\\Amit\\Desktop\\ML Projects\\Chest X-ray ...  IM-0006-0001.jpeg   \n",
       "4  C:\\Users\\Amit\\Desktop\\ML Projects\\Chest X-ray ...  IM-0007-0001.jpeg   \n",
       "\n",
       "  Category  actual  Pred_proba_Normal  class_pred  \n",
       "0   NORMAL       0           0.967120           0  \n",
       "1   NORMAL       0           0.349138           1  \n",
       "2   NORMAL       0           0.449169           1  \n",
       "3   NORMAL       0           0.742099           0  \n",
       "4   NORMAL       0           0.988462           0  "
      ]
     },
     "execution_count": 16,
     "metadata": {},
     "output_type": "execute_result"
    }
   ],
   "source": [
    "model5_pred = df_test.copy()\n",
    "\n",
    "model5_pred['actual'] = model5_pred['Category'].apply(lambda x: 0 if x=='NORMAL' else 1)\n",
    "model5_pred['Pred_proba_Normal'] = zero_index_pred\n",
    "model5_pred['class_pred'] = model5_pred['Pred_proba_Normal'].apply(lambda x: 1 if x<0.5 else 0)\n",
    "\n",
    "model5_pred.head()"
   ]
  },
  {
   "cell_type": "code",
   "execution_count": 17,
   "id": "1fcefd7e-827c-4d57-ac29-c5afa77af3ce",
   "metadata": {
    "tags": []
   },
   "outputs": [
    {
     "data": {
      "text/plain": [
       "array([[110, 124],\n",
       "       [  4, 386]], dtype=int64)"
      ]
     },
     "execution_count": 17,
     "metadata": {},
     "output_type": "execute_result"
    }
   ],
   "source": [
    "confusion_matrix(model5_pred['actual'], model5_pred['class_pred'])"
   ]
  },
  {
   "cell_type": "code",
   "execution_count": 18,
   "id": "7c132149-0e7c-43f8-9e6e-4ee67a908620",
   "metadata": {},
   "outputs": [
    {
     "data": {
      "text/plain": [
       "0.7948717948717948"
      ]
     },
     "execution_count": 18,
     "metadata": {},
     "output_type": "execute_result"
    }
   ],
   "source": [
    "accuracy_score(model5_pred['actual'], model5_pred['class_pred'])"
   ]
  },
  {
   "cell_type": "markdown",
   "id": "27dbf6ab-900b-4da0-9457-a2147576583d",
   "metadata": {},
   "source": [
    "- model performed average"
   ]
  },
  {
   "cell_type": "markdown",
   "id": "e623a2d0-5bd0-4f50-bfa6-75839e1b1949",
   "metadata": {},
   "source": [
    "# Model 6\n",
    "- Will try a bit  more complex model\n",
    "- will add one more layer of cnn"
   ]
  },
  {
   "cell_type": "code",
   "execution_count": 19,
   "id": "c6ead62e-2047-4cc7-83c3-cd89e66f6a01",
   "metadata": {},
   "outputs": [],
   "source": [
    "batch_size = 16\n",
    "image_size = 250\n",
    "input_shape = (image_size,image_size,1)"
   ]
  },
  {
   "cell_type": "markdown",
   "id": "88c93988-5981-407b-8da8-d3ec13fefbc3",
   "metadata": {},
   "source": [
    "### Generators"
   ]
  },
  {
   "cell_type": "code",
   "execution_count": 20,
   "id": "d0c3ecbd-c8c8-4c3e-9611-251408a12142",
   "metadata": {},
   "outputs": [
    {
     "name": "stdout",
     "output_type": "stream",
     "text": [
      "Found 5184 images belonging to 2 classes.\n"
     ]
    }
   ],
   "source": [
    "train = ImageDataGenerator(rescale=1/255,\n",
    "                           rotation_range=15,\n",
    "                           zoom_range=0.05,\n",
    "                           horizontal_flip=True,\n",
    "                          )\n",
    "\n",
    "train_data = train.flow_from_directory(train_dir,\n",
    "                                       target_size=(image_size,image_size),\n",
    "                                       color_mode='grayscale',\n",
    "                                       class_mode='categorical',\n",
    "                                       batch_size=batch_size,\n",
    "                                       shuffle=True,\n",
    "                                      )"
   ]
  },
  {
   "cell_type": "code",
   "execution_count": 21,
   "id": "774e5dac-cb6d-4f9f-a6b0-5b9e85758304",
   "metadata": {},
   "outputs": [
    {
     "name": "stdout",
     "output_type": "stream",
     "text": [
      "Found 48 images belonging to 2 classes.\n"
     ]
    }
   ],
   "source": [
    "valid = ImageDataGenerator(rescale=1/255)\n",
    "\n",
    "valid_data = valid.flow_from_directory(val_dir,\n",
    "                                       target_size=(image_size,image_size),\n",
    "                                       color_mode='grayscale',\n",
    "                                       class_mode='categorical',\n",
    "                                       batch_size=batch_size,\n",
    "                                       shuffle=True,\n",
    "                                      )"
   ]
  },
  {
   "cell_type": "code",
   "execution_count": 22,
   "id": "985fc2b7-83af-47c5-9e4d-83d647573898",
   "metadata": {},
   "outputs": [
    {
     "name": "stdout",
     "output_type": "stream",
     "text": [
      "Found 624 images belonging to 2 classes.\n"
     ]
    }
   ],
   "source": [
    "test = ImageDataGenerator(rescale=1/255)\n",
    "\n",
    "test_data = test.flow_from_directory(test_dir,\n",
    "                                       target_size=(image_size,image_size),\n",
    "                                       color_mode='grayscale',\n",
    "                                       class_mode='categorical',\n",
    "                                       batch_size=batch_size,\n",
    "                                       shuffle=False,\n",
    "                                      )"
   ]
  },
  {
   "cell_type": "code",
   "execution_count": 23,
   "id": "efd1769e-bd50-4780-a051-a5fa9e5f995c",
   "metadata": {},
   "outputs": [],
   "source": [
    "# Defining call backs\n",
    "early_stop = EarlyStopping(patience=5)\n",
    "\n",
    "reduce_lr = ReduceLROnPlateau(monitor='val_loss',\n",
    "    factor=0.1,\n",
    "    patience=3,\n",
    "    verbose=0,\n",
    "    mode='auto',\n",
    "    min_delta=0.0001,\n",
    "    cooldown=0,\n",
    "    min_lr=0.00001,)\n",
    "\n",
    "\n",
    "callbacks = [early_stop, reduce_lr]"
   ]
  },
  {
   "cell_type": "markdown",
   "id": "f27623be-f6f2-427f-90b6-553e1b34ae16",
   "metadata": {},
   "source": [
    "### Model"
   ]
  },
  {
   "cell_type": "code",
   "execution_count": 24,
   "id": "fe187731-9de2-43b7-813b-3d6a3a3b6158",
   "metadata": {},
   "outputs": [
    {
     "name": "stdout",
     "output_type": "stream",
     "text": [
      "Model: \"sequential_1\"\n",
      "_________________________________________________________________\n",
      "Layer (type)                 Output Shape              Param #   \n",
      "=================================================================\n",
      "conv2d_3 (Conv2D)            (None, 250, 250, 16)      160       \n",
      "_________________________________________________________________\n",
      "batch_normalization_3 (Batch (None, 250, 250, 16)      64        \n",
      "_________________________________________________________________\n",
      "max_pooling2d_3 (MaxPooling2 (None, 125, 125, 16)      0         \n",
      "_________________________________________________________________\n",
      "dropout_3 (Dropout)          (None, 125, 125, 16)      0         \n",
      "_________________________________________________________________\n",
      "conv2d_4 (Conv2D)            (None, 125, 125, 32)      4640      \n",
      "_________________________________________________________________\n",
      "batch_normalization_4 (Batch (None, 125, 125, 32)      128       \n",
      "_________________________________________________________________\n",
      "max_pooling2d_4 (MaxPooling2 (None, 62, 62, 32)        0         \n",
      "_________________________________________________________________\n",
      "dropout_4 (Dropout)          (None, 62, 62, 32)        0         \n",
      "_________________________________________________________________\n",
      "conv2d_5 (Conv2D)            (None, 62, 62, 64)        18496     \n",
      "_________________________________________________________________\n",
      "batch_normalization_5 (Batch (None, 62, 62, 64)        256       \n",
      "_________________________________________________________________\n",
      "max_pooling2d_5 (MaxPooling2 (None, 31, 31, 64)        0         \n",
      "_________________________________________________________________\n",
      "dropout_5 (Dropout)          (None, 31, 31, 64)        0         \n",
      "_________________________________________________________________\n",
      "conv2d_6 (Conv2D)            (None, 31, 31, 128)       73856     \n",
      "_________________________________________________________________\n",
      "batch_normalization_6 (Batch (None, 31, 31, 128)       512       \n",
      "_________________________________________________________________\n",
      "max_pooling2d_6 (MaxPooling2 (None, 15, 15, 128)       0         \n",
      "_________________________________________________________________\n",
      "dropout_6 (Dropout)          (None, 15, 15, 128)       0         \n",
      "_________________________________________________________________\n",
      "dense_3 (Dense)              (None, 15, 15, 512)       66048     \n",
      "_________________________________________________________________\n",
      "dense_4 (Dense)              (None, 15, 15, 1024)      525312    \n",
      "_________________________________________________________________\n",
      "flatten_1 (Flatten)          (None, 230400)            0         \n",
      "_________________________________________________________________\n",
      "dense_5 (Dense)              (None, 2)                 460802    \n",
      "=================================================================\n",
      "Total params: 1,150,274\n",
      "Trainable params: 1,149,794\n",
      "Non-trainable params: 480\n",
      "_________________________________________________________________\n"
     ]
    }
   ],
   "source": [
    "model = Sequential()\n",
    "\n",
    "model.add(Conv2D(16,(3,3), input_shape=input_shape, activation='relu', padding='same'))\n",
    "model.add(BatchNormalization())\n",
    "model.add(MaxPool2D(2,2))\n",
    "model.add(Dropout(0.20))\n",
    "\n",
    "model.add(Conv2D(32,(3,3), activation='relu', padding='same'))\n",
    "model.add(BatchNormalization())\n",
    "model.add(MaxPool2D(2,2))\n",
    "model.add(Dropout(0.20))\n",
    "\n",
    "model.add(Conv2D(64,(3,3), activation='relu', padding='same'))\n",
    "model.add(BatchNormalization())\n",
    "model.add(MaxPool2D(2,2))\n",
    "model.add(Dropout(0.20))\n",
    "\n",
    "model.add(Conv2D(128,(3,3), activation='relu', padding='same'))\n",
    "model.add(BatchNormalization())\n",
    "model.add(MaxPool2D(2,2))\n",
    "model.add(Dropout(0.20))\n",
    "\n",
    "model.add(Dense(512, activation='relu'))\n",
    "\n",
    "model.add(Dense(1024, activation='relu'))\n",
    "\n",
    "model.add(Flatten())\n",
    "\n",
    "model.add(Dense(2, activation='softmax'))\n",
    "\n",
    "model.compile(loss = 'categorical_crossentropy', optimizer = 'adam', metrics = ['accuracy'])\n",
    "\n",
    "model.summary()"
   ]
  },
  {
   "cell_type": "code",
   "execution_count": 25,
   "id": "c83b1677-a646-4c2d-9315-6e97ca308b22",
   "metadata": {},
   "outputs": [
    {
     "name": "stdout",
     "output_type": "stream",
     "text": [
      "Epoch 1/100\n",
      "324/324 [==============================] - 31s 93ms/step - loss: 0.3912 - accuracy: 0.9068 - val_loss: 3.0572 - val_accuracy: 0.5000\n",
      "Epoch 2/100\n",
      "324/324 [==============================] - 30s 92ms/step - loss: 0.1363 - accuracy: 0.9491 - val_loss: 0.3680 - val_accuracy: 0.8333\n",
      "Epoch 3/100\n",
      "324/324 [==============================] - 30s 92ms/step - loss: 0.1287 - accuracy: 0.9504 - val_loss: 0.5611 - val_accuracy: 0.6875\n",
      "Epoch 4/100\n",
      "324/324 [==============================] - 30s 92ms/step - loss: 0.1106 - accuracy: 0.9579 - val_loss: 0.8040 - val_accuracy: 0.7500\n",
      "Epoch 5/100\n",
      "324/324 [==============================] - 30s 92ms/step - loss: 0.1001 - accuracy: 0.9626 - val_loss: 0.9649 - val_accuracy: 0.7083\n",
      "Epoch 6/100\n",
      "324/324 [==============================] - 30s 92ms/step - loss: 0.0785 - accuracy: 0.9732 - val_loss: 0.7391 - val_accuracy: 0.7917\n",
      "Epoch 7/100\n",
      "324/324 [==============================] - 30s 92ms/step - loss: 0.0684 - accuracy: 0.9751 - val_loss: 0.6955 - val_accuracy: 0.7917\n"
     ]
    }
   ],
   "source": [
    "epochs = 100\n",
    "history = model.fit(train_data,\n",
    "                    epochs=epochs,\n",
    "                    callbacks=callbacks,\n",
    "                    validation_data=valid_data,\n",
    "                   )"
   ]
  },
  {
   "cell_type": "code",
   "execution_count": 26,
   "id": "317fb5c5-0698-4bb0-8384-ab2bfa1df448",
   "metadata": {},
   "outputs": [
    {
     "data": {
      "text/plain": [
       "[<matplotlib.lines.Line2D at 0x2497e18c130>]"
      ]
     },
     "execution_count": 26,
     "metadata": {},
     "output_type": "execute_result"
    },
    {
     "data": {
      "image/png": "[encoded data removed]",
      "text/plain": [
       "<Figure size 432x288 with 1 Axes>"
      ]
     },
     "metadata": {
      "needs_background": "light"
     },
     "output_type": "display_data"
    }
   ],
   "source": [
    "plt.plot(history.history['loss'])"
   ]
  },
  {
   "cell_type": "markdown",
   "id": "b4ada1b6-c58b-4750-8f08-ac18029d0bbf",
   "metadata": {},
   "source": [
    "### Prediction and evaluation"
   ]
  },
  {
   "cell_type": "code",
   "execution_count": 27,
   "id": "040a2088-3698-4b37-b3d6-10607f11cf2a",
   "metadata": {},
   "outputs": [],
   "source": [
    "pred = model.predict(test_data)"
   ]
  },
  {
   "cell_type": "code",
   "execution_count": 28,
   "id": "36839e61-fab0-46c5-ae96-28ff4cdb51e8",
   "metadata": {},
   "outputs": [],
   "source": [
    "zero_index_pred = []\n",
    "for l in pred:\n",
    "    zero_index_pred.append(l[0])"
   ]
  },
  {
   "cell_type": "code",
   "execution_count": 29,
   "id": "f7af1dd7-f477-4fdb-bde5-4343302683bd",
   "metadata": {},
   "outputs": [
    {
     "data": {
      "text/html": [
       "<div>\n",
       "<style scoped>\n",
       "    .dataframe tbody tr th:only-of-type {\n",
       "        vertical-align: middle;\n",
       "    }\n",
       "\n",
       "    .dataframe tbody tr th {\n",
       "        vertical-align: top;\n",
       "    }\n",
       "\n",
       "    .dataframe thead th {\n",
       "        text-align: right;\n",
       "    }\n",
       "</style>\n",
       "<table border=\"1\" class=\"dataframe\">\n",
       "  <thead>\n",
       "    <tr style=\"text-align: right;\">\n",
       "      <th></th>\n",
       "      <th>Paths</th>\n",
       "      <th>File</th>\n",
       "      <th>Category</th>\n",
       "      <th>actual</th>\n",
       "      <th>Pred_proba_Normal</th>\n",
       "      <th>class_pred</th>\n",
       "    </tr>\n",
       "  </thead>\n",
       "  <tbody>\n",
       "    <tr>\n",
       "      <th>0</th>\n",
       "      <td>C:\\Users\\Amit\\Desktop\\ML Projects\\Chest X-ray ...</td>\n",
       "      <td>IM-0001-0001.jpeg</td>\n",
       "      <td>NORMAL</td>\n",
       "      <td>0</td>\n",
       "      <td>0.049802</td>\n",
       "      <td>1</td>\n",
       "    </tr>\n",
       "    <tr>\n",
       "      <th>1</th>\n",
       "      <td>C:\\Users\\Amit\\Desktop\\ML Projects\\Chest X-ray ...</td>\n",
       "      <td>IM-0003-0001.jpeg</td>\n",
       "      <td>NORMAL</td>\n",
       "      <td>0</td>\n",
       "      <td>0.119644</td>\n",
       "      <td>1</td>\n",
       "    </tr>\n",
       "    <tr>\n",
       "      <th>2</th>\n",
       "      <td>C:\\Users\\Amit\\Desktop\\ML Projects\\Chest X-ray ...</td>\n",
       "      <td>IM-0005-0001.jpeg</td>\n",
       "      <td>NORMAL</td>\n",
       "      <td>0</td>\n",
       "      <td>0.009082</td>\n",
       "      <td>1</td>\n",
       "    </tr>\n",
       "    <tr>\n",
       "      <th>3</th>\n",
       "      <td>C:\\Users\\Amit\\Desktop\\ML Projects\\Chest X-ray ...</td>\n",
       "      <td>IM-0006-0001.jpeg</td>\n",
       "      <td>NORMAL</td>\n",
       "      <td>0</td>\n",
       "      <td>0.002190</td>\n",
       "      <td>1</td>\n",
       "    </tr>\n",
       "    <tr>\n",
       "      <th>4</th>\n",
       "      <td>C:\\Users\\Amit\\Desktop\\ML Projects\\Chest X-ray ...</td>\n",
       "      <td>IM-0007-0001.jpeg</td>\n",
       "      <td>NORMAL</td>\n",
       "      <td>0</td>\n",
       "      <td>0.019208</td>\n",
       "      <td>1</td>\n",
       "    </tr>\n",
       "  </tbody>\n",
       "</table>\n",
       "</div>"
      ],
      "text/plain": [
       "                                               Paths               File  \\\n",
       "0  C:\\Users\\Amit\\Desktop\\ML Projects\\Chest X-ray ...  IM-0001-0001.jpeg   \n",
       "1  C:\\Users\\Amit\\Desktop\\ML Projects\\Chest X-ray ...  IM-0003-0001.jpeg   \n",
       "2  C:\\Users\\Amit\\Desktop\\ML Projects\\Chest X-ray ...  IM-0005-0001.jpeg   \n",
       "3  C:\\Users\\Amit\\Desktop\\ML Projects\\Chest X-ray ...  IM-0006-0001.jpeg   \n",
       "4  C:\\Users\\Amit\\Desktop\\ML Projects\\Chest X-ray ...  IM-0007-0001.jpeg   \n",
       "\n",
       "  Category  actual  Pred_proba_Normal  class_pred  \n",
       "0   NORMAL       0           0.049802           1  \n",
       "1   NORMAL       0           0.119644           1  \n",
       "2   NORMAL       0           0.009082           1  \n",
       "3   NORMAL       0           0.002190           1  \n",
       "4   NORMAL       0           0.019208           1  "
      ]
     },
     "execution_count": 29,
     "metadata": {},
     "output_type": "execute_result"
    }
   ],
   "source": [
    "model6_pred = df_test.copy()\n",
    "\n",
    "model6_pred['actual'] = model6_pred['Category'].apply(lambda x: 0 if x=='NORMAL' else 1)\n",
    "model6_pred['Pred_proba_Normal'] = zero_index_pred\n",
    "model6_pred['class_pred'] = model6_pred['Pred_proba_Normal'].apply(lambda x: 1 if x<0.5 else 0)\n",
    "\n",
    "model6_pred.head()"
   ]
  },
  {
   "cell_type": "code",
   "execution_count": 30,
   "id": "8d2fdceb-bff8-450f-aea1-43b80be3db6e",
   "metadata": {
    "tags": []
   },
   "outputs": [
    {
     "data": {
      "text/plain": [
       "array([[ 76, 158],\n",
       "       [  2, 388]], dtype=int64)"
      ]
     },
     "execution_count": 30,
     "metadata": {},
     "output_type": "execute_result"
    }
   ],
   "source": [
    "confusion_matrix(model6_pred['actual'], model6_pred['class_pred'])"
   ]
  },
  {
   "cell_type": "code",
   "execution_count": 31,
   "id": "0607882a-c822-4cc1-b526-08697f01b8d7",
   "metadata": {},
   "outputs": [
    {
     "data": {
      "text/plain": [
       "0.7435897435897436"
      ]
     },
     "execution_count": 31,
     "metadata": {},
     "output_type": "execute_result"
    }
   ],
   "source": [
    "accuracy_score(model6_pred['actual'], model6_pred['class_pred'])"
   ]
  },
  {
   "cell_type": "markdown",
   "id": "2d97b3a4-919d-4f1e-915f-317f6b57ec01",
   "metadata": {},
   "source": [
    "#  Model 7\n",
    "- Trying models with repeated CN layers"
   ]
  },
  {
   "cell_type": "code",
   "execution_count": null,
   "id": "3bc11c73-18d5-4ca5-a1cd-4a8e006c331c",
   "metadata": {},
   "outputs": [],
   "source": []
  },
  {
   "cell_type": "code",
   "execution_count": 46,
   "id": "d8ce2a27-1ac0-4f66-b0a5-b4f65ddbfc5c",
   "metadata": {},
   "outputs": [],
   "source": [
    "batch_size = 16\n",
    "image_size = 250\n",
    "input_shape = (image_size,image_size,1)"
   ]
  },
  {
   "cell_type": "markdown",
   "id": "48d384c6-350a-4319-8c7b-fb058899a5a2",
   "metadata": {},
   "source": [
    "### Generators"
   ]
  },
  {
   "cell_type": "code",
   "execution_count": 47,
   "id": "dafd1eef-fcff-4e5f-a09b-654b334728a2",
   "metadata": {},
   "outputs": [
    {
     "name": "stdout",
     "output_type": "stream",
     "text": [
      "Found 5184 images belonging to 2 classes.\n"
     ]
    }
   ],
   "source": [
    "train = ImageDataGenerator(rescale=1/255,\n",
    "                           rotation_range=15,\n",
    "                           zoom_range=0.05,\n",
    "                           horizontal_flip=True,\n",
    "                          )\n",
    "\n",
    "train_data = train.flow_from_directory(train_dir,\n",
    "                                       target_size=(image_size,image_size),\n",
    "                                       color_mode='grayscale',\n",
    "                                       class_mode='categorical',\n",
    "                                       batch_size=batch_size,\n",
    "                                       shuffle=True,\n",
    "                                      )"
   ]
  },
  {
   "cell_type": "code",
   "execution_count": 48,
   "id": "d2b9e414-8d8d-4df4-89c8-050e583a1930",
   "metadata": {},
   "outputs": [
    {
     "name": "stdout",
     "output_type": "stream",
     "text": [
      "Found 48 images belonging to 2 classes.\n"
     ]
    }
   ],
   "source": [
    "valid = ImageDataGenerator(rescale=1/255)\n",
    "\n",
    "valid_data = valid.flow_from_directory(val_dir,\n",
    "                                       target_size=(image_size,image_size),\n",
    "                                       color_mode='grayscale',\n",
    "                                       class_mode='categorical',\n",
    "                                       batch_size=batch_size,\n",
    "                                       shuffle=True,\n",
    "                                      )"
   ]
  },
  {
   "cell_type": "code",
   "execution_count": 49,
   "id": "3ec49d43-3b2f-4ef0-859d-607c5331079d",
   "metadata": {},
   "outputs": [
    {
     "name": "stdout",
     "output_type": "stream",
     "text": [
      "Found 624 images belonging to 2 classes.\n"
     ]
    }
   ],
   "source": [
    "test = ImageDataGenerator(rescale=1/255)\n",
    "\n",
    "test_data = test.flow_from_directory(test_dir,\n",
    "                                       target_size=(image_size,image_size),\n",
    "                                       color_mode='grayscale',\n",
    "                                       class_mode='categorical',\n",
    "                                       batch_size=batch_size,\n",
    "                                       shuffle=False,\n",
    "                                      )"
   ]
  },
  {
   "cell_type": "code",
   "execution_count": 50,
   "id": "d91477eb-f4ea-4325-8fd5-ea83f8a3f7d1",
   "metadata": {},
   "outputs": [],
   "source": [
    "# Defining call backs\n",
    "early_stop = EarlyStopping(patience=14)\n",
    "\n",
    "reduce_lr = ReduceLROnPlateau(monitor='val_loss',\n",
    "    factor=0.1,\n",
    "    patience=3,\n",
    "    verbose=0,\n",
    "    mode='auto',\n",
    "    min_delta=0.0001,\n",
    "    cooldown=0,\n",
    "    min_lr=0.00001,)\n",
    "\n",
    "\n",
    "callbacks = [early_stop, reduce_lr]"
   ]
  },
  {
   "cell_type": "markdown",
   "id": "fab96a39-6ef8-4258-b26a-f241ba4824b3",
   "metadata": {},
   "source": [
    "### Model"
   ]
  },
  {
   "cell_type": "code",
   "execution_count": 51,
   "id": "cc218383-7f54-4081-b699-5eeeee30d7ad",
   "metadata": {},
   "outputs": [
    {
     "name": "stdout",
     "output_type": "stream",
     "text": [
      "Model: \"sequential_3\"\n",
      "_________________________________________________________________\n",
      "Layer (type)                 Output Shape              Param #   \n",
      "=================================================================\n",
      "conv2d_12 (Conv2D)           (None, 250, 250, 16)      160       \n",
      "_________________________________________________________________\n",
      "batch_normalization_12 (Batc (None, 250, 250, 16)      64        \n",
      "_________________________________________________________________\n",
      "max_pooling2d_12 (MaxPooling (None, 125, 125, 16)      0         \n",
      "_________________________________________________________________\n",
      "dropout_12 (Dropout)         (None, 125, 125, 16)      0         \n",
      "_________________________________________________________________\n",
      "conv2d_13 (Conv2D)           (None, 125, 125, 32)      4640      \n",
      "_________________________________________________________________\n",
      "batch_normalization_13 (Batc (None, 125, 125, 32)      128       \n",
      "_________________________________________________________________\n",
      "max_pooling2d_13 (MaxPooling (None, 62, 62, 32)        0         \n",
      "_________________________________________________________________\n",
      "dropout_13 (Dropout)         (None, 62, 62, 32)        0         \n",
      "_________________________________________________________________\n",
      "conv2d_14 (Conv2D)           (None, 62, 62, 32)        9248      \n",
      "_________________________________________________________________\n",
      "batch_normalization_14 (Batc (None, 62, 62, 32)        128       \n",
      "_________________________________________________________________\n",
      "max_pooling2d_14 (MaxPooling (None, 31, 31, 32)        0         \n",
      "_________________________________________________________________\n",
      "dropout_14 (Dropout)         (None, 31, 31, 32)        0         \n",
      "_________________________________________________________________\n",
      "conv2d_15 (Conv2D)           (None, 31, 31, 64)        18496     \n",
      "_________________________________________________________________\n",
      "batch_normalization_15 (Batc (None, 31, 31, 64)        256       \n",
      "_________________________________________________________________\n",
      "max_pooling2d_15 (MaxPooling (None, 15, 15, 64)        0         \n",
      "_________________________________________________________________\n",
      "dropout_15 (Dropout)         (None, 15, 15, 64)        0         \n",
      "_________________________________________________________________\n",
      "conv2d_16 (Conv2D)           (None, 15, 15, 64)        36928     \n",
      "_________________________________________________________________\n",
      "batch_normalization_16 (Batc (None, 15, 15, 64)        256       \n",
      "_________________________________________________________________\n",
      "max_pooling2d_16 (MaxPooling (None, 7, 7, 64)          0         \n",
      "_________________________________________________________________\n",
      "dropout_16 (Dropout)         (None, 7, 7, 64)          0         \n",
      "_________________________________________________________________\n",
      "dense_9 (Dense)              (None, 7, 7, 512)         33280     \n",
      "_________________________________________________________________\n",
      "dense_10 (Dense)             (None, 7, 7, 1024)        525312    \n",
      "_________________________________________________________________\n",
      "flatten_3 (Flatten)          (None, 50176)             0         \n",
      "_________________________________________________________________\n",
      "dense_11 (Dense)             (None, 2)                 100354    \n",
      "=================================================================\n",
      "Total params: 729,250\n",
      "Trainable params: 728,834\n",
      "Non-trainable params: 416\n",
      "_________________________________________________________________\n"
     ]
    }
   ],
   "source": [
    "model = Sequential()\n",
    "\n",
    "model.add(Conv2D(16,(3,3), input_shape=input_shape, activation='relu', padding='same'))\n",
    "model.add(BatchNormalization())\n",
    "model.add(MaxPool2D(2,2))\n",
    "model.add(Dropout(0.20))\n",
    "\n",
    "model.add(Conv2D(32,(3,3), activation='relu', padding='same'))\n",
    "model.add(BatchNormalization())\n",
    "model.add(MaxPool2D(2,2))\n",
    "model.add(Dropout(0.20))\n",
    "\n",
    "model.add(Conv2D(32,(3,3), activation='relu', padding='same'))\n",
    "model.add(BatchNormalization())\n",
    "model.add(MaxPool2D(2,2))\n",
    "model.add(Dropout(0.20))\n",
    "\n",
    "model.add(Conv2D(64,(3,3), activation='relu', padding='same'))\n",
    "model.add(BatchNormalization())\n",
    "model.add(MaxPool2D(2,2))\n",
    "model.add(Dropout(0.20))\n",
    "\n",
    "model.add(Conv2D(64,(3,3), activation='relu', padding='same'))\n",
    "model.add(BatchNormalization())\n",
    "model.add(MaxPool2D(2,2))\n",
    "model.add(Dropout(0.20))\n",
    "\n",
    "model.add(Dense(512, activation='relu'))\n",
    "\n",
    "model.add(Dense(1024, activation='relu'))\n",
    "\n",
    "model.add(Flatten())\n",
    "\n",
    "model.add(Dense(2, activation='softmax'))\n",
    "\n",
    "model.compile(loss = 'categorical_crossentropy', optimizer = 'adam', metrics = ['accuracy'])\n",
    "\n",
    "model.summary()"
   ]
  },
  {
   "cell_type": "code",
   "execution_count": 52,
   "id": "9be98fc4-0f50-48b7-a54f-64832603a852",
   "metadata": {},
   "outputs": [
    {
     "name": "stdout",
     "output_type": "stream",
     "text": [
      "Epoch 1/100\n",
      "324/324 [==============================] - 32s 97ms/step - loss: 0.2310 - accuracy: 0.9155 - val_loss: 1.8567 - val_accuracy: 0.5000\n",
      "Epoch 2/100\n",
      "324/324 [==============================] - 34s 105ms/step - loss: 0.1364 - accuracy: 0.9487 - val_loss: 1.2259 - val_accuracy: 0.7500\n",
      "Epoch 3/100\n",
      "324/324 [==============================] - 32s 99ms/step - loss: 0.1162 - accuracy: 0.9551 - val_loss: 0.2716 - val_accuracy: 0.8333\n",
      "Epoch 4/100\n",
      "324/324 [==============================] - 32s 98ms/step - loss: 0.1084 - accuracy: 0.9620 - val_loss: 3.5340 - val_accuracy: 0.6250\n",
      "Epoch 5/100\n",
      "324/324 [==============================] - 32s 98ms/step - loss: 0.0883 - accuracy: 0.9691 - val_loss: 1.3235 - val_accuracy: 0.7500\n",
      "Epoch 6/100\n",
      "324/324 [==============================] - 32s 99ms/step - loss: 0.0982 - accuracy: 0.9645 - val_loss: 6.4012 - val_accuracy: 0.5000\n",
      "Epoch 7/100\n",
      "324/324 [==============================] - 32s 98ms/step - loss: 0.0699 - accuracy: 0.9738 - val_loss: 0.3838 - val_accuracy: 0.8125\n",
      "Epoch 8/100\n",
      "324/324 [==============================] - 38s 116ms/step - loss: 0.0645 - accuracy: 0.9778 - val_loss: 0.2646 - val_accuracy: 0.8750\n",
      "Epoch 9/100\n",
      "324/324 [==============================] - 33s 101ms/step - loss: 0.0629 - accuracy: 0.9769 - val_loss: 0.2120 - val_accuracy: 0.8958\n",
      "Epoch 10/100\n",
      "324/324 [==============================] - 30s 92ms/step - loss: 0.0554 - accuracy: 0.9784 - val_loss: 0.2514 - val_accuracy: 0.8542\n",
      "Epoch 11/100\n",
      "324/324 [==============================] - 30s 91ms/step - loss: 0.0561 - accuracy: 0.9784 - val_loss: 0.1938 - val_accuracy: 0.9167\n",
      "Epoch 12/100\n",
      "324/324 [==============================] - 30s 92ms/step - loss: 0.0550 - accuracy: 0.9788 - val_loss: 0.7260 - val_accuracy: 0.7917\n",
      "Epoch 13/100\n",
      "324/324 [==============================] - 30s 94ms/step - loss: 0.0509 - accuracy: 0.9811 - val_loss: 0.1446 - val_accuracy: 0.9583\n",
      "Epoch 14/100\n",
      "324/324 [==============================] - 31s 95ms/step - loss: 0.0580 - accuracy: 0.9796 - val_loss: 0.1964 - val_accuracy: 0.8958\n",
      "Epoch 15/100\n",
      "324/324 [==============================] - 31s 96ms/step - loss: 0.0509 - accuracy: 0.9811 - val_loss: 0.1645 - val_accuracy: 0.8958\n",
      "Epoch 16/100\n",
      "324/324 [==============================] - 31s 95ms/step - loss: 0.0500 - accuracy: 0.9805 - val_loss: 0.1308 - val_accuracy: 0.9375\n",
      "Epoch 17/100\n",
      "324/324 [==============================] - 31s 94ms/step - loss: 0.0500 - accuracy: 0.9792 - val_loss: 0.1662 - val_accuracy: 0.9375\n",
      "Epoch 18/100\n",
      "324/324 [==============================] - 31s 95ms/step - loss: 0.0435 - accuracy: 0.9830 - val_loss: 0.6556 - val_accuracy: 0.8333\n",
      "Epoch 19/100\n",
      "324/324 [==============================] - 31s 94ms/step - loss: 0.0472 - accuracy: 0.9844 - val_loss: 0.3570 - val_accuracy: 0.8542\n",
      "Epoch 20/100\n",
      "324/324 [==============================] - 31s 95ms/step - loss: 0.0463 - accuracy: 0.9846 - val_loss: 0.1197 - val_accuracy: 0.9583\n",
      "Epoch 21/100\n",
      "324/324 [==============================] - 31s 95ms/step - loss: 0.0455 - accuracy: 0.9848 - val_loss: 0.1258 - val_accuracy: 0.9375\n",
      "Epoch 22/100\n",
      "324/324 [==============================] - 31s 95ms/step - loss: 0.0453 - accuracy: 0.9813 - val_loss: 0.1254 - val_accuracy: 0.9375\n",
      "Epoch 23/100\n",
      "324/324 [==============================] - 31s 95ms/step - loss: 0.0460 - accuracy: 0.9817 - val_loss: 0.1218 - val_accuracy: 0.9375\n",
      "Epoch 24/100\n",
      "324/324 [==============================] - 31s 94ms/step - loss: 0.0449 - accuracy: 0.9838 - val_loss: 0.1258 - val_accuracy: 0.9375\n",
      "Epoch 25/100\n",
      "324/324 [==============================] - 31s 95ms/step - loss: 0.0404 - accuracy: 0.9859 - val_loss: 0.1251 - val_accuracy: 0.9375\n",
      "Epoch 26/100\n",
      "324/324 [==============================] - 31s 95ms/step - loss: 0.0441 - accuracy: 0.9832 - val_loss: 0.1236 - val_accuracy: 0.9375\n",
      "Epoch 27/100\n",
      "324/324 [==============================] - 31s 94ms/step - loss: 0.0431 - accuracy: 0.9823 - val_loss: 0.1326 - val_accuracy: 0.9375\n",
      "Epoch 28/100\n",
      "324/324 [==============================] - 31s 95ms/step - loss: 0.0419 - accuracy: 0.9855 - val_loss: 0.1208 - val_accuracy: 0.9375\n",
      "Epoch 29/100\n",
      "324/324 [==============================] - 31s 94ms/step - loss: 0.0434 - accuracy: 0.9828 - val_loss: 0.1234 - val_accuracy: 0.9375\n",
      "Epoch 30/100\n",
      "324/324 [==============================] - 31s 95ms/step - loss: 0.0447 - accuracy: 0.9840 - val_loss: 0.1278 - val_accuracy: 0.9375\n",
      "Epoch 31/100\n",
      "324/324 [==============================] - 31s 94ms/step - loss: 0.0421 - accuracy: 0.9859 - val_loss: 0.1424 - val_accuracy: 0.9375\n",
      "Epoch 32/100\n",
      "324/324 [==============================] - 30s 94ms/step - loss: 0.0395 - accuracy: 0.9871 - val_loss: 0.1211 - val_accuracy: 0.9375\n",
      "Epoch 33/100\n",
      "324/324 [==============================] - 31s 94ms/step - loss: 0.0440 - accuracy: 0.9838 - val_loss: 0.1295 - val_accuracy: 0.9375\n",
      "Epoch 34/100\n",
      "324/324 [==============================] - 30s 94ms/step - loss: 0.0393 - accuracy: 0.9863 - val_loss: 0.1222 - val_accuracy: 0.9375\n"
     ]
    }
   ],
   "source": [
    "epochs = 100\n",
    "history = model.fit(train_data,\n",
    "                    epochs=epochs,\n",
    "                    callbacks=callbacks,\n",
    "                    validation_data=valid_data,\n",
    "                   )"
   ]
  },
  {
   "cell_type": "code",
   "execution_count": 53,
   "id": "4024a0f1-1e9d-4d7b-87ea-24a20a882fb5",
   "metadata": {},
   "outputs": [
    {
     "data": {
      "text/plain": [
       "[<matplotlib.lines.Line2D at 0x24a31dc11c0>]"
      ]
     },
     "execution_count": 53,
     "metadata": {},
     "output_type": "execute_result"
    },
    {
     "data": {
      "image/png": "[encoded data removed]",
      "text/plain": [
       "<Figure size 432x288 with 1 Axes>"
      ]
     },
     "metadata": {
      "needs_background": "light"
     },
     "output_type": "display_data"
    }
   ],
   "source": [
    "plt.plot(history.history['loss'])"
   ]
  },
  {
   "cell_type": "markdown",
   "id": "e25c460b-1f1f-4f0d-8727-d9d041fdb724",
   "metadata": {},
   "source": [
    "### Prediction and evaluation"
   ]
  },
  {
   "cell_type": "code",
   "execution_count": 54,
   "id": "f9c54933-0fd5-469f-85ba-7e5f4dcae034",
   "metadata": {},
   "outputs": [],
   "source": [
    "pred = model.predict(test_data)"
   ]
  },
  {
   "cell_type": "code",
   "execution_count": 55,
   "id": "dee0f936-e67a-4f37-892f-4ef7c2840ac0",
   "metadata": {},
   "outputs": [],
   "source": [
    "zero_index_pred = []\n",
    "for l in pred:\n",
    "    zero_index_pred.append(l[0])"
   ]
  },
  {
   "cell_type": "code",
   "execution_count": 56,
   "id": "5a1bb355-4a6a-4872-aff8-a2b033ff02e6",
   "metadata": {},
   "outputs": [
    {
     "data": {
      "text/html": [
       "<div>\n",
       "<style scoped>\n",
       "    .dataframe tbody tr th:only-of-type {\n",
       "        vertical-align: middle;\n",
       "    }\n",
       "\n",
       "    .dataframe tbody tr th {\n",
       "        vertical-align: top;\n",
       "    }\n",
       "\n",
       "    .dataframe thead th {\n",
       "        text-align: right;\n",
       "    }\n",
       "</style>\n",
       "<table border=\"1\" class=\"dataframe\">\n",
       "  <thead>\n",
       "    <tr style=\"text-align: right;\">\n",
       "      <th></th>\n",
       "      <th>Paths</th>\n",
       "      <th>File</th>\n",
       "      <th>Category</th>\n",
       "      <th>actual</th>\n",
       "      <th>Pred_proba_Normal</th>\n",
       "      <th>class_pred</th>\n",
       "    </tr>\n",
       "  </thead>\n",
       "  <tbody>\n",
       "    <tr>\n",
       "      <th>0</th>\n",
       "      <td>C:\\Users\\Amit\\Desktop\\ML Projects\\Chest X-ray ...</td>\n",
       "      <td>IM-0001-0001.jpeg</td>\n",
       "      <td>NORMAL</td>\n",
       "      <td>0</td>\n",
       "      <td>0.946312</td>\n",
       "      <td>0</td>\n",
       "    </tr>\n",
       "    <tr>\n",
       "      <th>1</th>\n",
       "      <td>C:\\Users\\Amit\\Desktop\\ML Projects\\Chest X-ray ...</td>\n",
       "      <td>IM-0003-0001.jpeg</td>\n",
       "      <td>NORMAL</td>\n",
       "      <td>0</td>\n",
       "      <td>0.946622</td>\n",
       "      <td>0</td>\n",
       "    </tr>\n",
       "    <tr>\n",
       "      <th>2</th>\n",
       "      <td>C:\\Users\\Amit\\Desktop\\ML Projects\\Chest X-ray ...</td>\n",
       "      <td>IM-0005-0001.jpeg</td>\n",
       "      <td>NORMAL</td>\n",
       "      <td>0</td>\n",
       "      <td>0.973942</td>\n",
       "      <td>0</td>\n",
       "    </tr>\n",
       "    <tr>\n",
       "      <th>3</th>\n",
       "      <td>C:\\Users\\Amit\\Desktop\\ML Projects\\Chest X-ray ...</td>\n",
       "      <td>IM-0006-0001.jpeg</td>\n",
       "      <td>NORMAL</td>\n",
       "      <td>0</td>\n",
       "      <td>0.878912</td>\n",
       "      <td>0</td>\n",
       "    </tr>\n",
       "    <tr>\n",
       "      <th>4</th>\n",
       "      <td>C:\\Users\\Amit\\Desktop\\ML Projects\\Chest X-ray ...</td>\n",
       "      <td>IM-0007-0001.jpeg</td>\n",
       "      <td>NORMAL</td>\n",
       "      <td>0</td>\n",
       "      <td>0.999556</td>\n",
       "      <td>0</td>\n",
       "    </tr>\n",
       "  </tbody>\n",
       "</table>\n",
       "</div>"
      ],
      "text/plain": [
       "                                               Paths               File  \\\n",
       "0  C:\\Users\\Amit\\Desktop\\ML Projects\\Chest X-ray ...  IM-0001-0001.jpeg   \n",
       "1  C:\\Users\\Amit\\Desktop\\ML Projects\\Chest X-ray ...  IM-0003-0001.jpeg   \n",
       "2  C:\\Users\\Amit\\Desktop\\ML Projects\\Chest X-ray ...  IM-0005-0001.jpeg   \n",
       "3  C:\\Users\\Amit\\Desktop\\ML Projects\\Chest X-ray ...  IM-0006-0001.jpeg   \n",
       "4  C:\\Users\\Amit\\Desktop\\ML Projects\\Chest X-ray ...  IM-0007-0001.jpeg   \n",
       "\n",
       "  Category  actual  Pred_proba_Normal  class_pred  \n",
       "0   NORMAL       0           0.946312           0  \n",
       "1   NORMAL       0           0.946622           0  \n",
       "2   NORMAL       0           0.973942           0  \n",
       "3   NORMAL       0           0.878912           0  \n",
       "4   NORMAL       0           0.999556           0  "
      ]
     },
     "execution_count": 56,
     "metadata": {},
     "output_type": "execute_result"
    }
   ],
   "source": [
    "model7_pred = df_test.copy()\n",
    "\n",
    "model7_pred['actual'] = model7_pred['Category'].apply(lambda x: 0 if x=='NORMAL' else 1)\n",
    "model7_pred['Pred_proba_Normal'] = zero_index_pred\n",
    "model7_pred['class_pred'] = model7_pred['Pred_proba_Normal'].apply(lambda x: 1 if x<0.5 else 0)\n",
    "\n",
    "model7_pred.head()"
   ]
  },
  {
   "cell_type": "code",
   "execution_count": 57,
   "id": "baf88657-de4b-45e7-b2c5-469900940868",
   "metadata": {
    "tags": []
   },
   "outputs": [
    {
     "data": {
      "text/plain": [
       "array([[163,  71],\n",
       "       [ 16, 374]], dtype=int64)"
      ]
     },
     "execution_count": 57,
     "metadata": {},
     "output_type": "execute_result"
    }
   ],
   "source": [
    "confusion_matrix(model7_pred['actual'], model7_pred['class_pred'])"
   ]
  },
  {
   "cell_type": "code",
   "execution_count": 58,
   "id": "30bc5cc8-d355-4268-b885-6cf9a21ad69e",
   "metadata": {},
   "outputs": [
    {
     "data": {
      "text/plain": [
       "0.8605769230769231"
      ]
     },
     "execution_count": 58,
     "metadata": {},
     "output_type": "execute_result"
    }
   ],
   "source": [
    "accuracy_score(model7_pred['actual'], model7_pred['class_pred'])"
   ]
  },
  {
   "cell_type": "markdown",
   "id": "14e6212e-f103-4afe-9b0d-6c9d5a71c67a",
   "metadata": {},
   "source": [
    "# Model 8\n",
    "- Same as model 7 but with a 128 layer cnn"
   ]
  },
  {
   "cell_type": "code",
   "execution_count": null,
   "id": "19f3bd42-46be-4138-a7dc-9c9a4bb7226e",
   "metadata": {},
   "outputs": [],
   "source": []
  },
  {
   "cell_type": "code",
   "execution_count": 59,
   "id": "3df34629-a916-4f5f-99b9-d5546e6454f6",
   "metadata": {},
   "outputs": [],
   "source": [
    "batch_size = 16\n",
    "image_size = 250\n",
    "input_shape = (image_size,image_size,1)"
   ]
  },
  {
   "cell_type": "markdown",
   "id": "c77d1810-957f-44da-9159-50b22ea80b99",
   "metadata": {},
   "source": [
    "### Generators"
   ]
  },
  {
   "cell_type": "code",
   "execution_count": 60,
   "id": "a7a90dc8-3f36-406e-bdfd-5a8a10369695",
   "metadata": {},
   "outputs": [
    {
     "name": "stdout",
     "output_type": "stream",
     "text": [
      "Found 5184 images belonging to 2 classes.\n"
     ]
    }
   ],
   "source": [
    "train = ImageDataGenerator(rescale=1/255,\n",
    "                           rotation_range=15,\n",
    "                           zoom_range=0.05,\n",
    "                           horizontal_flip=True,\n",
    "                          )\n",
    "\n",
    "train_data = train.flow_from_directory(train_dir,\n",
    "                                       target_size=(image_size,image_size),\n",
    "                                       color_mode='grayscale',\n",
    "                                       class_mode='categorical',\n",
    "                                       batch_size=batch_size,\n",
    "                                       shuffle=True,\n",
    "                                      )"
   ]
  },
  {
   "cell_type": "code",
   "execution_count": 61,
   "id": "a357e432-2f0c-4ad2-ab68-30923fffa781",
   "metadata": {},
   "outputs": [
    {
     "name": "stdout",
     "output_type": "stream",
     "text": [
      "Found 48 images belonging to 2 classes.\n"
     ]
    }
   ],
   "source": [
    "valid = ImageDataGenerator(rescale=1/255)\n",
    "\n",
    "valid_data = valid.flow_from_directory(val_dir,\n",
    "                                       target_size=(image_size,image_size),\n",
    "                                       color_mode='grayscale',\n",
    "                                       class_mode='categorical',\n",
    "                                       batch_size=batch_size,\n",
    "                                       shuffle=True,\n",
    "                                      )"
   ]
  },
  {
   "cell_type": "code",
   "execution_count": 62,
   "id": "6d1b7a2b-5c14-4d1e-ba2b-b04542376ad3",
   "metadata": {},
   "outputs": [
    {
     "name": "stdout",
     "output_type": "stream",
     "text": [
      "Found 624 images belonging to 2 classes.\n"
     ]
    }
   ],
   "source": [
    "test = ImageDataGenerator(rescale=1/255)\n",
    "\n",
    "test_data = test.flow_from_directory(test_dir,\n",
    "                                       target_size=(image_size,image_size),\n",
    "                                       color_mode='grayscale',\n",
    "                                       class_mode='categorical',\n",
    "                                       batch_size=batch_size,\n",
    "                                       shuffle=False,\n",
    "                                      )"
   ]
  },
  {
   "cell_type": "code",
   "execution_count": 63,
   "id": "f4d50d13-5741-4069-b954-aa61e9220166",
   "metadata": {},
   "outputs": [],
   "source": [
    "# Defining call backs\n",
    "early_stop = EarlyStopping(patience=14)\n",
    "\n",
    "reduce_lr = ReduceLROnPlateau(monitor='val_loss',\n",
    "    factor=0.1,\n",
    "    patience=3,\n",
    "    verbose=0,\n",
    "    mode='auto',\n",
    "    min_delta=0.0001,\n",
    "    cooldown=0,\n",
    "    min_lr=0.00001,)\n",
    "\n",
    "\n",
    "callbacks = [early_stop, reduce_lr]"
   ]
  },
  {
   "cell_type": "markdown",
   "id": "a6f26b85-3c48-4a42-b223-90eb66bc1326",
   "metadata": {},
   "source": [
    "### Model"
   ]
  },
  {
   "cell_type": "code",
   "execution_count": 64,
   "id": "1bcc6da5-7cdb-4ca1-bc43-a20d06a9638d",
   "metadata": {},
   "outputs": [
    {
     "name": "stdout",
     "output_type": "stream",
     "text": [
      "Model: \"sequential_4\"\n",
      "_________________________________________________________________\n",
      "Layer (type)                 Output Shape              Param #   \n",
      "=================================================================\n",
      "conv2d_17 (Conv2D)           (None, 250, 250, 16)      160       \n",
      "_________________________________________________________________\n",
      "batch_normalization_17 (Batc (None, 250, 250, 16)      64        \n",
      "_________________________________________________________________\n",
      "max_pooling2d_17 (MaxPooling (None, 125, 125, 16)      0         \n",
      "_________________________________________________________________\n",
      "dropout_17 (Dropout)         (None, 125, 125, 16)      0         \n",
      "_________________________________________________________________\n",
      "conv2d_18 (Conv2D)           (None, 125, 125, 32)      4640      \n",
      "_________________________________________________________________\n",
      "batch_normalization_18 (Batc (None, 125, 125, 32)      128       \n",
      "_________________________________________________________________\n",
      "max_pooling2d_18 (MaxPooling (None, 62, 62, 32)        0         \n",
      "_________________________________________________________________\n",
      "dropout_18 (Dropout)         (None, 62, 62, 32)        0         \n",
      "_________________________________________________________________\n",
      "conv2d_19 (Conv2D)           (None, 62, 62, 32)        9248      \n",
      "_________________________________________________________________\n",
      "batch_normalization_19 (Batc (None, 62, 62, 32)        128       \n",
      "_________________________________________________________________\n",
      "max_pooling2d_19 (MaxPooling (None, 31, 31, 32)        0         \n",
      "_________________________________________________________________\n",
      "dropout_19 (Dropout)         (None, 31, 31, 32)        0         \n",
      "_________________________________________________________________\n",
      "conv2d_20 (Conv2D)           (None, 31, 31, 64)        18496     \n",
      "_________________________________________________________________\n",
      "batch_normalization_20 (Batc (None, 31, 31, 64)        256       \n",
      "_________________________________________________________________\n",
      "max_pooling2d_20 (MaxPooling (None, 15, 15, 64)        0         \n",
      "_________________________________________________________________\n",
      "dropout_20 (Dropout)         (None, 15, 15, 64)        0         \n",
      "_________________________________________________________________\n",
      "conv2d_21 (Conv2D)           (None, 15, 15, 64)        36928     \n",
      "_________________________________________________________________\n",
      "batch_normalization_21 (Batc (None, 15, 15, 64)        256       \n",
      "_________________________________________________________________\n",
      "max_pooling2d_21 (MaxPooling (None, 7, 7, 64)          0         \n",
      "_________________________________________________________________\n",
      "dropout_21 (Dropout)         (None, 7, 7, 64)          0         \n",
      "_________________________________________________________________\n",
      "conv2d_22 (Conv2D)           (None, 7, 7, 128)         73856     \n",
      "_________________________________________________________________\n",
      "batch_normalization_22 (Batc (None, 7, 7, 128)         512       \n",
      "_________________________________________________________________\n",
      "max_pooling2d_22 (MaxPooling (None, 3, 3, 128)         0         \n",
      "_________________________________________________________________\n",
      "dropout_22 (Dropout)         (None, 3, 3, 128)         0         \n",
      "_________________________________________________________________\n",
      "conv2d_23 (Conv2D)           (None, 3, 3, 128)         147584    \n",
      "_________________________________________________________________\n",
      "batch_normalization_23 (Batc (None, 3, 3, 128)         512       \n",
      "_________________________________________________________________\n",
      "max_pooling2d_23 (MaxPooling (None, 1, 1, 128)         0         \n",
      "_________________________________________________________________\n",
      "dropout_23 (Dropout)         (None, 1, 1, 128)         0         \n",
      "_________________________________________________________________\n",
      "dense_12 (Dense)             (None, 1, 1, 512)         66048     \n",
      "_________________________________________________________________\n",
      "dense_13 (Dense)             (None, 1, 1, 1024)        525312    \n",
      "_________________________________________________________________\n",
      "flatten_4 (Flatten)          (None, 1024)              0         \n",
      "_________________________________________________________________\n",
      "dense_14 (Dense)             (None, 2)                 2050      \n",
      "=================================================================\n",
      "Total params: 886,178\n",
      "Trainable params: 885,250\n",
      "Non-trainable params: 928\n",
      "_________________________________________________________________\n"
     ]
    }
   ],
   "source": [
    "model = Sequential()\n",
    "\n",
    "model.add(Conv2D(16,(3,3), input_shape=input_shape, activation='relu', padding='same'))\n",
    "model.add(BatchNormalization())\n",
    "model.add(MaxPool2D(2,2))\n",
    "model.add(Dropout(0.20))\n",
    "\n",
    "model.add(Conv2D(32,(3,3), activation='relu', padding='same'))\n",
    "model.add(BatchNormalization())\n",
    "model.add(MaxPool2D(2,2))\n",
    "model.add(Dropout(0.20))\n",
    "\n",
    "model.add(Conv2D(32,(3,3), activation='relu', padding='same'))\n",
    "model.add(BatchNormalization())\n",
    "model.add(MaxPool2D(2,2))\n",
    "model.add(Dropout(0.20))\n",
    "\n",
    "model.add(Conv2D(64,(3,3), activation='relu', padding='same'))\n",
    "model.add(BatchNormalization())\n",
    "model.add(MaxPool2D(2,2))\n",
    "model.add(Dropout(0.20))\n",
    "\n",
    "model.add(Conv2D(64,(3,3), activation='relu', padding='same'))\n",
    "model.add(BatchNormalization())\n",
    "model.add(MaxPool2D(2,2))\n",
    "model.add(Dropout(0.20))\n",
    "\n",
    "model.add(Conv2D(128,(3,3), activation='relu', padding='same'))\n",
    "model.add(BatchNormalization())\n",
    "model.add(MaxPool2D(2,2))\n",
    "model.add(Dropout(0.20))\n",
    "\n",
    "model.add(Conv2D(128,(3,3), activation='relu', padding='same'))\n",
    "model.add(BatchNormalization())\n",
    "model.add(MaxPool2D(2,2))\n",
    "model.add(Dropout(0.20))\n",
    "\n",
    "model.add(Dense(512, activation='relu'))\n",
    "\n",
    "model.add(Dense(1024, activation='relu'))\n",
    "\n",
    "model.add(Flatten())\n",
    "\n",
    "model.add(Dense(2, activation='softmax'))\n",
    "\n",
    "model.compile(loss = 'categorical_crossentropy', optimizer = 'adam', metrics = ['accuracy'])\n",
    "\n",
    "model.summary()"
   ]
  },
  {
   "cell_type": "code",
   "execution_count": 65,
   "id": "67c2f191-f2df-492d-a329-799ee99a329e",
   "metadata": {},
   "outputs": [
    {
     "name": "stdout",
     "output_type": "stream",
     "text": [
      "Epoch 1/100\n",
      "324/324 [==============================] - 32s 95ms/step - loss: 0.2608 - accuracy: 0.8993 - val_loss: 5.9948 - val_accuracy: 0.5000\n",
      "Epoch 2/100\n",
      "324/324 [==============================] - 30s 94ms/step - loss: 0.1642 - accuracy: 0.9396 - val_loss: 3.5632 - val_accuracy: 0.6250\n",
      "Epoch 3/100\n",
      "324/324 [==============================] - 31s 95ms/step - loss: 0.1263 - accuracy: 0.9551 - val_loss: 0.2967 - val_accuracy: 0.8542\n",
      "Epoch 4/100\n",
      "324/324 [==============================] - 32s 97ms/step - loss: 0.1172 - accuracy: 0.9581 - val_loss: 2.9615 - val_accuracy: 0.6042\n",
      "Epoch 5/100\n",
      "324/324 [==============================] - 32s 99ms/step - loss: 0.1030 - accuracy: 0.9635 - val_loss: 6.4431 - val_accuracy: 0.5000\n",
      "Epoch 6/100\n",
      "324/324 [==============================] - 34s 104ms/step - loss: 0.1106 - accuracy: 0.9624 - val_loss: 5.4132 - val_accuracy: 0.5000\n",
      "Epoch 7/100\n",
      "324/324 [==============================] - 31s 95ms/step - loss: 0.0847 - accuracy: 0.9676 - val_loss: 0.1568 - val_accuracy: 0.9583\n",
      "Epoch 8/100\n",
      "324/324 [==============================] - 30s 94ms/step - loss: 0.0728 - accuracy: 0.9755 - val_loss: 0.1420 - val_accuracy: 0.9375\n",
      "Epoch 9/100\n",
      "324/324 [==============================] - 31s 94ms/step - loss: 0.0705 - accuracy: 0.9769 - val_loss: 0.1848 - val_accuracy: 0.8958\n",
      "Epoch 10/100\n",
      "324/324 [==============================] - 30s 92ms/step - loss: 0.0695 - accuracy: 0.9757 - val_loss: 1.8726 - val_accuracy: 0.7083\n",
      "Epoch 11/100\n",
      "324/324 [==============================] - 31s 94ms/step - loss: 0.0617 - accuracy: 0.9767 - val_loss: 0.4176 - val_accuracy: 0.8125\n",
      "Epoch 12/100\n",
      "324/324 [==============================] - 30s 92ms/step - loss: 0.0671 - accuracy: 0.9747 - val_loss: 0.1006 - val_accuracy: 0.9583\n",
      "Epoch 13/100\n",
      "324/324 [==============================] - 31s 94ms/step - loss: 0.0657 - accuracy: 0.9749 - val_loss: 0.1102 - val_accuracy: 0.9583\n",
      "Epoch 14/100\n",
      "324/324 [==============================] - 30s 93ms/step - loss: 0.0620 - accuracy: 0.9753 - val_loss: 0.0994 - val_accuracy: 0.9583\n",
      "Epoch 15/100\n",
      "324/324 [==============================] - 30s 94ms/step - loss: 0.0544 - accuracy: 0.9799 - val_loss: 0.1081 - val_accuracy: 0.9583\n",
      "Epoch 16/100\n",
      "324/324 [==============================] - 30s 93ms/step - loss: 0.0556 - accuracy: 0.9794 - val_loss: 0.0988 - val_accuracy: 0.9583\n",
      "Epoch 17/100\n",
      "324/324 [==============================] - 30s 94ms/step - loss: 0.0594 - accuracy: 0.9774 - val_loss: 0.1155 - val_accuracy: 0.9583\n",
      "Epoch 18/100\n",
      "324/324 [==============================] - 30s 93ms/step - loss: 0.0556 - accuracy: 0.9796 - val_loss: 0.0998 - val_accuracy: 0.9583\n",
      "Epoch 19/100\n",
      "324/324 [==============================] - 30s 93ms/step - loss: 0.0609 - accuracy: 0.9788 - val_loss: 0.1062 - val_accuracy: 0.9583\n",
      "Epoch 20/100\n",
      "324/324 [==============================] - 30s 92ms/step - loss: 0.0556 - accuracy: 0.9805 - val_loss: 0.1026 - val_accuracy: 0.9583\n",
      "Epoch 21/100\n",
      "324/324 [==============================] - 30s 94ms/step - loss: 0.0592 - accuracy: 0.9786 - val_loss: 0.0951 - val_accuracy: 0.9583\n",
      "Epoch 22/100\n",
      "324/324 [==============================] - 30s 92ms/step - loss: 0.0580 - accuracy: 0.9786 - val_loss: 0.0909 - val_accuracy: 0.9792\n",
      "Epoch 23/100\n",
      "324/324 [==============================] - 30s 93ms/step - loss: 0.0602 - accuracy: 0.9767 - val_loss: 0.1000 - val_accuracy: 0.9583\n",
      "Epoch 24/100\n",
      "324/324 [==============================] - 30s 93ms/step - loss: 0.0596 - accuracy: 0.9776 - val_loss: 0.1023 - val_accuracy: 0.9583\n",
      "Epoch 25/100\n",
      "324/324 [==============================] - 31s 95ms/step - loss: 0.0548 - accuracy: 0.9794 - val_loss: 0.0953 - val_accuracy: 0.9583\n",
      "Epoch 26/100\n",
      "324/324 [==============================] - 30s 93ms/step - loss: 0.0639 - accuracy: 0.9770 - val_loss: 0.1061 - val_accuracy: 0.9583\n",
      "Epoch 27/100\n",
      "324/324 [==============================] - 31s 94ms/step - loss: 0.0602 - accuracy: 0.9778 - val_loss: 0.1137 - val_accuracy: 0.9583\n",
      "Epoch 28/100\n",
      "324/324 [==============================] - 30s 94ms/step - loss: 0.0531 - accuracy: 0.9805 - val_loss: 0.0981 - val_accuracy: 0.9583\n",
      "Epoch 29/100\n",
      "324/324 [==============================] - 32s 99ms/step - loss: 0.0543 - accuracy: 0.9794 - val_loss: 0.0918 - val_accuracy: 0.9583\n",
      "Epoch 30/100\n",
      "324/324 [==============================] - 31s 95ms/step - loss: 0.0579 - accuracy: 0.9796 - val_loss: 0.0893 - val_accuracy: 0.9583\n",
      "Epoch 31/100\n",
      "324/324 [==============================] - 31s 96ms/step - loss: 0.0546 - accuracy: 0.9815 - val_loss: 0.1030 - val_accuracy: 0.9583\n",
      "Epoch 32/100\n",
      "324/324 [==============================] - 31s 95ms/step - loss: 0.0598 - accuracy: 0.9786 - val_loss: 0.0948 - val_accuracy: 0.9792\n",
      "Epoch 33/100\n",
      "324/324 [==============================] - 32s 98ms/step - loss: 0.0543 - accuracy: 0.9809 - val_loss: 0.0910 - val_accuracy: 0.9583\n",
      "Epoch 34/100\n",
      "324/324 [==============================] - 31s 96ms/step - loss: 0.0553 - accuracy: 0.9807 - val_loss: 0.0950 - val_accuracy: 0.9583\n",
      "Epoch 35/100\n",
      "324/324 [==============================] - 31s 96ms/step - loss: 0.0521 - accuracy: 0.9801 - val_loss: 0.0959 - val_accuracy: 0.9583\n",
      "Epoch 36/100\n",
      "324/324 [==============================] - 31s 95ms/step - loss: 0.0544 - accuracy: 0.9788 - val_loss: 0.0956 - val_accuracy: 0.9583\n",
      "Epoch 37/100\n",
      "324/324 [==============================] - 31s 95ms/step - loss: 0.0546 - accuracy: 0.9799 - val_loss: 0.0882 - val_accuracy: 0.9792\n",
      "Epoch 38/100\n",
      "324/324 [==============================] - 31s 95ms/step - loss: 0.0525 - accuracy: 0.9790 - val_loss: 0.0962 - val_accuracy: 0.9583\n",
      "Epoch 39/100\n",
      "324/324 [==============================] - 31s 96ms/step - loss: 0.0577 - accuracy: 0.9780 - val_loss: 0.0899 - val_accuracy: 0.9583\n",
      "Epoch 40/100\n",
      "324/324 [==============================] - 31s 95ms/step - loss: 0.0550 - accuracy: 0.9796 - val_loss: 0.1130 - val_accuracy: 0.9583\n",
      "Epoch 41/100\n",
      "324/324 [==============================] - 31s 96ms/step - loss: 0.0537 - accuracy: 0.9788 - val_loss: 0.0815 - val_accuracy: 0.9792\n",
      "Epoch 42/100\n",
      "324/324 [==============================] - 31s 94ms/step - loss: 0.0538 - accuracy: 0.9805 - val_loss: 0.0886 - val_accuracy: 0.9583\n",
      "Epoch 43/100\n",
      "324/324 [==============================] - 31s 96ms/step - loss: 0.0471 - accuracy: 0.9844 - val_loss: 0.0853 - val_accuracy: 0.9792\n",
      "Epoch 44/100\n",
      "324/324 [==============================] - 31s 95ms/step - loss: 0.0609 - accuracy: 0.9782 - val_loss: 0.0875 - val_accuracy: 0.9583\n",
      "Epoch 45/100\n",
      "324/324 [==============================] - 31s 95ms/step - loss: 0.0467 - accuracy: 0.9828 - val_loss: 0.1025 - val_accuracy: 0.9583\n",
      "Epoch 46/100\n",
      "324/324 [==============================] - 31s 95ms/step - loss: 0.0490 - accuracy: 0.9809 - val_loss: 0.0824 - val_accuracy: 0.9792\n",
      "Epoch 47/100\n",
      "324/324 [==============================] - 31s 96ms/step - loss: 0.0475 - accuracy: 0.9817 - val_loss: 0.0857 - val_accuracy: 0.9792\n",
      "Epoch 48/100\n",
      "324/324 [==============================] - 31s 95ms/step - loss: 0.0469 - accuracy: 0.9824 - val_loss: 0.0861 - val_accuracy: 0.9583\n",
      "Epoch 49/100\n",
      "324/324 [==============================] - 31s 96ms/step - loss: 0.0507 - accuracy: 0.9803 - val_loss: 0.1086 - val_accuracy: 0.9583\n",
      "Epoch 50/100\n",
      "324/324 [==============================] - 31s 95ms/step - loss: 0.0558 - accuracy: 0.9794 - val_loss: 0.0895 - val_accuracy: 0.9583\n",
      "Epoch 51/100\n",
      "324/324 [==============================] - 31s 97ms/step - loss: 0.0541 - accuracy: 0.9805 - val_loss: 0.0906 - val_accuracy: 0.9583\n",
      "Epoch 52/100\n",
      "324/324 [==============================] - 31s 96ms/step - loss: 0.0510 - accuracy: 0.9809 - val_loss: 0.0861 - val_accuracy: 0.9792\n",
      "Epoch 53/100\n",
      "324/324 [==============================] - 32s 98ms/step - loss: 0.0544 - accuracy: 0.9801 - val_loss: 0.0911 - val_accuracy: 0.9583\n",
      "Epoch 54/100\n",
      "324/324 [==============================] - 32s 98ms/step - loss: 0.0502 - accuracy: 0.9815 - val_loss: 0.0822 - val_accuracy: 0.9583\n",
      "Epoch 55/100\n",
      "324/324 [==============================] - 32s 97ms/step - loss: 0.0567 - accuracy: 0.9770 - val_loss: 0.0868 - val_accuracy: 0.9583\n"
     ]
    }
   ],
   "source": [
    "epochs = 100\n",
    "history = model.fit(train_data,\n",
    "                    epochs=epochs,\n",
    "                    callbacks=callbacks,\n",
    "                    validation_data=valid_data,\n",
    "                   )"
   ]
  },
  {
   "cell_type": "code",
   "execution_count": 66,
   "id": "f776df89-b746-4f99-8982-cd83cd4bb00d",
   "metadata": {},
   "outputs": [
    {
     "data": {
      "text/plain": [
       "[<matplotlib.lines.Line2D at 0x249e2b0f760>]"
      ]
     },
     "execution_count": 66,
     "metadata": {},
     "output_type": "execute_result"
    },
    {
     "data": {
      "image/png": "[encoded data removed]",
      "text/plain": [
       "<Figure size 432x288 with 1 Axes>"
      ]
     },
     "metadata": {
      "needs_background": "light"
     },
     "output_type": "display_data"
    }
   ],
   "source": [
    "plt.plot(history.history['loss'])"
   ]
  },
  {
   "cell_type": "markdown",
   "id": "92f966a8-518a-4261-8148-f5c338ad3df2",
   "metadata": {},
   "source": [
    "### Prediction and evaluation"
   ]
  },
  {
   "cell_type": "code",
   "execution_count": 67,
   "id": "bee65667-9f4a-43dd-823d-513c071257da",
   "metadata": {},
   "outputs": [],
   "source": [
    "pred = model.predict(test_data)"
   ]
  },
  {
   "cell_type": "code",
   "execution_count": 68,
   "id": "a12c4d48-47d2-44b0-a9a5-ca403f7cdec7",
   "metadata": {},
   "outputs": [],
   "source": [
    "zero_index_pred = []\n",
    "for l in pred:\n",
    "    zero_index_pred.append(l[0])"
   ]
  },
  {
   "cell_type": "code",
   "execution_count": 69,
   "id": "2ef4b968-779d-4e26-b328-8d79402506cf",
   "metadata": {},
   "outputs": [
    {
     "data": {
      "text/html": [
       "<div>\n",
       "<style scoped>\n",
       "    .dataframe tbody tr th:only-of-type {\n",
       "        vertical-align: middle;\n",
       "    }\n",
       "\n",
       "    .dataframe tbody tr th {\n",
       "        vertical-align: top;\n",
       "    }\n",
       "\n",
       "    .dataframe thead th {\n",
       "        text-align: right;\n",
       "    }\n",
       "</style>\n",
       "<table border=\"1\" class=\"dataframe\">\n",
       "  <thead>\n",
       "    <tr style=\"text-align: right;\">\n",
       "      <th></th>\n",
       "      <th>Paths</th>\n",
       "      <th>File</th>\n",
       "      <th>Category</th>\n",
       "      <th>actual</th>\n",
       "      <th>Pred_proba_Normal</th>\n",
       "      <th>class_pred</th>\n",
       "    </tr>\n",
       "  </thead>\n",
       "  <tbody>\n",
       "    <tr>\n",
       "      <th>0</th>\n",
       "      <td>C:\\Users\\Amit\\Desktop\\ML Projects\\Chest X-ray ...</td>\n",
       "      <td>IM-0001-0001.jpeg</td>\n",
       "      <td>NORMAL</td>\n",
       "      <td>0</td>\n",
       "      <td>0.999914</td>\n",
       "      <td>0</td>\n",
       "    </tr>\n",
       "    <tr>\n",
       "      <th>1</th>\n",
       "      <td>C:\\Users\\Amit\\Desktop\\ML Projects\\Chest X-ray ...</td>\n",
       "      <td>IM-0003-0001.jpeg</td>\n",
       "      <td>NORMAL</td>\n",
       "      <td>0</td>\n",
       "      <td>0.906134</td>\n",
       "      <td>0</td>\n",
       "    </tr>\n",
       "    <tr>\n",
       "      <th>2</th>\n",
       "      <td>C:\\Users\\Amit\\Desktop\\ML Projects\\Chest X-ray ...</td>\n",
       "      <td>IM-0005-0001.jpeg</td>\n",
       "      <td>NORMAL</td>\n",
       "      <td>0</td>\n",
       "      <td>0.995976</td>\n",
       "      <td>0</td>\n",
       "    </tr>\n",
       "    <tr>\n",
       "      <th>3</th>\n",
       "      <td>C:\\Users\\Amit\\Desktop\\ML Projects\\Chest X-ray ...</td>\n",
       "      <td>IM-0006-0001.jpeg</td>\n",
       "      <td>NORMAL</td>\n",
       "      <td>0</td>\n",
       "      <td>0.994590</td>\n",
       "      <td>0</td>\n",
       "    </tr>\n",
       "    <tr>\n",
       "      <th>4</th>\n",
       "      <td>C:\\Users\\Amit\\Desktop\\ML Projects\\Chest X-ray ...</td>\n",
       "      <td>IM-0007-0001.jpeg</td>\n",
       "      <td>NORMAL</td>\n",
       "      <td>0</td>\n",
       "      <td>0.999805</td>\n",
       "      <td>0</td>\n",
       "    </tr>\n",
       "  </tbody>\n",
       "</table>\n",
       "</div>"
      ],
      "text/plain": [
       "                                               Paths               File  \\\n",
       "0  C:\\Users\\Amit\\Desktop\\ML Projects\\Chest X-ray ...  IM-0001-0001.jpeg   \n",
       "1  C:\\Users\\Amit\\Desktop\\ML Projects\\Chest X-ray ...  IM-0003-0001.jpeg   \n",
       "2  C:\\Users\\Amit\\Desktop\\ML Projects\\Chest X-ray ...  IM-0005-0001.jpeg   \n",
       "3  C:\\Users\\Amit\\Desktop\\ML Projects\\Chest X-ray ...  IM-0006-0001.jpeg   \n",
       "4  C:\\Users\\Amit\\Desktop\\ML Projects\\Chest X-ray ...  IM-0007-0001.jpeg   \n",
       "\n",
       "  Category  actual  Pred_proba_Normal  class_pred  \n",
       "0   NORMAL       0           0.999914           0  \n",
       "1   NORMAL       0           0.906134           0  \n",
       "2   NORMAL       0           0.995976           0  \n",
       "3   NORMAL       0           0.994590           0  \n",
       "4   NORMAL       0           0.999805           0  "
      ]
     },
     "execution_count": 69,
     "metadata": {},
     "output_type": "execute_result"
    }
   ],
   "source": [
    "model8_pred = df_test.copy()\n",
    "\n",
    "model8_pred['actual'] = model8_pred['Category'].apply(lambda x: 0 if x=='NORMAL' else 1)\n",
    "model8_pred['Pred_proba_Normal'] = zero_index_pred\n",
    "model8_pred['class_pred'] = model8_pred['Pred_proba_Normal'].apply(lambda x: 1 if x<0.5 else 0)\n",
    "\n",
    "model8_pred.head()"
   ]
  },
  {
   "cell_type": "code",
   "execution_count": 70,
   "id": "44591e1d-7655-40b1-a5b5-1a8bc4f6a456",
   "metadata": {
    "tags": []
   },
   "outputs": [
    {
     "data": {
      "text/plain": [
       "array([[186,  48],\n",
       "       [ 16, 374]], dtype=int64)"
      ]
     },
     "execution_count": 70,
     "metadata": {},
     "output_type": "execute_result"
    }
   ],
   "source": [
    "confusion_matrix(model8_pred['actual'], model8_pred['class_pred'])"
   ]
  },
  {
   "cell_type": "code",
   "execution_count": 71,
   "id": "f1ff666f-bb13-4379-9245-d6b75381bd7d",
   "metadata": {},
   "outputs": [
    {
     "data": {
      "text/plain": [
       "0.8974358974358975"
      ]
     },
     "execution_count": 71,
     "metadata": {},
     "output_type": "execute_result"
    }
   ],
   "source": [
    "accuracy_score(model8_pred['actual'], model8_pred['class_pred'])"
   ]
  },
  {
   "cell_type": "code",
   "execution_count": 72,
   "id": "e710b34e-c6b0-4e2b-a3b4-340d355b293c",
   "metadata": {},
   "outputs": [],
   "source": [
    "model_8 = model.save('model_8.h5')"
   ]
  },
  {
   "cell_type": "markdown",
   "id": "60a3e41c-a3ee-49fa-933f-75cd9aa6c46f",
   "metadata": {},
   "source": [
    "#### Ok so this was the best performing model. About 90% accuracy\n",
    "- However it took too long to train because of early stoping\n",
    "- Will use a max of 33 epochs"
   ]
  },
  {
   "cell_type": "markdown",
   "id": "39a89c50-0570-47e0-8e0e-1b3911b22973",
   "metadata": {},
   "source": [
    "# Model 9\n",
    "- Will remove early stoping and put 33 epochs\n",
    "- will increase compexity (cnn of 256)"
   ]
  },
  {
   "cell_type": "code",
   "execution_count": null,
   "id": "00bad42f-34c8-4bd3-b840-f7d5de9af561",
   "metadata": {
    "tags": []
   },
   "outputs": [],
   "source": []
  },
  {
   "cell_type": "code",
   "execution_count": 6,
   "id": "3b4905c6-1572-44cc-bafc-1202116f8ce3",
   "metadata": {},
   "outputs": [],
   "source": [
    "batch_size = 16\n",
    "image_size = 250\n",
    "input_shape = (image_size,image_size,1)"
   ]
  },
  {
   "cell_type": "markdown",
   "id": "9c60ba74-9536-43b2-957a-457c3027db16",
   "metadata": {},
   "source": [
    "### Generators"
   ]
  },
  {
   "cell_type": "code",
   "execution_count": 7,
   "id": "ee7b6545-211b-4943-9b0e-a9ab8fb9f0cd",
   "metadata": {},
   "outputs": [
    {
     "name": "stdout",
     "output_type": "stream",
     "text": [
      "Found 5184 images belonging to 2 classes.\n"
     ]
    }
   ],
   "source": [
    "train = ImageDataGenerator(rescale=1/255,\n",
    "                           rotation_range=15,\n",
    "                           zoom_range=0.05,\n",
    "                           horizontal_flip=True,\n",
    "                          )\n",
    "\n",
    "train_data = train.flow_from_directory(train_dir,\n",
    "                                       target_size=(image_size,image_size),\n",
    "                                       color_mode='grayscale',\n",
    "                                       class_mode='categorical',\n",
    "                                       batch_size=batch_size,\n",
    "                                       shuffle=True,\n",
    "                                      )"
   ]
  },
  {
   "cell_type": "code",
   "execution_count": 8,
   "id": "9ace613f-4b7e-41e5-ad6f-06aad80a70d7",
   "metadata": {},
   "outputs": [
    {
     "name": "stdout",
     "output_type": "stream",
     "text": [
      "Found 48 images belonging to 2 classes.\n"
     ]
    }
   ],
   "source": [
    "valid = ImageDataGenerator(rescale=1/255)\n",
    "\n",
    "valid_data = valid.flow_from_directory(val_dir,\n",
    "                                       target_size=(image_size,image_size),\n",
    "                                       color_mode='grayscale',\n",
    "                                       class_mode='categorical',\n",
    "                                       batch_size=batch_size,\n",
    "                                       shuffle=True,\n",
    "                                      )"
   ]
  },
  {
   "cell_type": "code",
   "execution_count": 9,
   "id": "1328201b-296b-4554-a6da-90ec2e6bf797",
   "metadata": {},
   "outputs": [
    {
     "name": "stdout",
     "output_type": "stream",
     "text": [
      "Found 624 images belonging to 2 classes.\n"
     ]
    }
   ],
   "source": [
    "test = ImageDataGenerator(rescale=1/255)\n",
    "\n",
    "test_data = test.flow_from_directory(test_dir,\n",
    "                                       target_size=(image_size,image_size),\n",
    "                                       color_mode='grayscale',\n",
    "                                       class_mode='categorical',\n",
    "                                       batch_size=batch_size,\n",
    "                                       shuffle=False,\n",
    "                                      )"
   ]
  },
  {
   "cell_type": "code",
   "execution_count": 11,
   "id": "af7644da-ea30-46df-8825-ebdf8db93d02",
   "metadata": {},
   "outputs": [],
   "source": [
    "# Defining call backs\n",
    "#early_stop = EarlyStopping(patience=14)\n",
    "\n",
    "reduce_lr = ReduceLROnPlateau(monitor='val_loss',\n",
    "    factor=0.1,\n",
    "    patience=3,\n",
    "    verbose=0,\n",
    "    mode='auto',\n",
    "    min_delta=0.0001,\n",
    "    cooldown=0,\n",
    "    min_lr=0.00001,)\n",
    "\n",
    "\n",
    "callbacks = [reduce_lr]"
   ]
  },
  {
   "cell_type": "markdown",
   "id": "f9a7b7c0-8aac-463c-8f5e-edb5f593cf6f",
   "metadata": {},
   "source": [
    "### Model"
   ]
  },
  {
   "cell_type": "code",
   "execution_count": 13,
   "id": "5b12d57c-7ad2-49f5-851f-01c616208436",
   "metadata": {},
   "outputs": [
    {
     "name": "stdout",
     "output_type": "stream",
     "text": [
      "Model: \"sequential_1\"\n",
      "_________________________________________________________________\n",
      "Layer (type)                 Output Shape              Param #   \n",
      "=================================================================\n",
      "conv2d_8 (Conv2D)            (None, 250, 250, 16)      160       \n",
      "_________________________________________________________________\n",
      "batch_normalization_8 (Batch (None, 250, 250, 16)      64        \n",
      "_________________________________________________________________\n",
      "max_pooling2d_8 (MaxPooling2 (None, 125, 125, 16)      0         \n",
      "_________________________________________________________________\n",
      "dropout_7 (Dropout)          (None, 125, 125, 16)      0         \n",
      "_________________________________________________________________\n",
      "conv2d_9 (Conv2D)            (None, 125, 125, 32)      4640      \n",
      "_________________________________________________________________\n",
      "batch_normalization_9 (Batch (None, 125, 125, 32)      128       \n",
      "_________________________________________________________________\n",
      "max_pooling2d_9 (MaxPooling2 (None, 62, 62, 32)        0         \n",
      "_________________________________________________________________\n",
      "dropout_8 (Dropout)          (None, 62, 62, 32)        0         \n",
      "_________________________________________________________________\n",
      "conv2d_10 (Conv2D)           (None, 62, 62, 32)        9248      \n",
      "_________________________________________________________________\n",
      "batch_normalization_10 (Batc (None, 62, 62, 32)        128       \n",
      "_________________________________________________________________\n",
      "max_pooling2d_10 (MaxPooling (None, 31, 31, 32)        0         \n",
      "_________________________________________________________________\n",
      "dropout_9 (Dropout)          (None, 31, 31, 32)        0         \n",
      "_________________________________________________________________\n",
      "conv2d_11 (Conv2D)           (None, 31, 31, 64)        18496     \n",
      "_________________________________________________________________\n",
      "batch_normalization_11 (Batc (None, 31, 31, 64)        256       \n",
      "_________________________________________________________________\n",
      "max_pooling2d_11 (MaxPooling (None, 15, 15, 64)        0         \n",
      "_________________________________________________________________\n",
      "dropout_10 (Dropout)         (None, 15, 15, 64)        0         \n",
      "_________________________________________________________________\n",
      "conv2d_12 (Conv2D)           (None, 15, 15, 64)        36928     \n",
      "_________________________________________________________________\n",
      "batch_normalization_12 (Batc (None, 15, 15, 64)        256       \n",
      "_________________________________________________________________\n",
      "dropout_11 (Dropout)         (None, 15, 15, 64)        0         \n",
      "_________________________________________________________________\n",
      "conv2d_13 (Conv2D)           (None, 15, 15, 128)       73856     \n",
      "_________________________________________________________________\n",
      "batch_normalization_13 (Batc (None, 15, 15, 128)       512       \n",
      "_________________________________________________________________\n",
      "max_pooling2d_12 (MaxPooling (None, 7, 7, 128)         0         \n",
      "_________________________________________________________________\n",
      "dropout_12 (Dropout)         (None, 7, 7, 128)         0         \n",
      "_________________________________________________________________\n",
      "conv2d_14 (Conv2D)           (None, 7, 7, 128)         147584    \n",
      "_________________________________________________________________\n",
      "batch_normalization_14 (Batc (None, 7, 7, 128)         512       \n",
      "_________________________________________________________________\n",
      "dropout_13 (Dropout)         (None, 7, 7, 128)         0         \n",
      "_________________________________________________________________\n",
      "conv2d_15 (Conv2D)           (None, 7, 7, 256)         295168    \n",
      "_________________________________________________________________\n",
      "batch_normalization_15 (Batc (None, 7, 7, 256)         1024      \n",
      "_________________________________________________________________\n",
      "max_pooling2d_13 (MaxPooling (None, 3, 3, 256)         0         \n",
      "_________________________________________________________________\n",
      "dropout_14 (Dropout)         (None, 3, 3, 256)         0         \n",
      "_________________________________________________________________\n",
      "conv2d_16 (Conv2D)           (None, 3, 3, 256)         590080    \n",
      "_________________________________________________________________\n",
      "batch_normalization_16 (Batc (None, 3, 3, 256)         1024      \n",
      "_________________________________________________________________\n",
      "dropout_15 (Dropout)         (None, 3, 3, 256)         0         \n",
      "_________________________________________________________________\n",
      "dense (Dense)                (None, 3, 3, 512)         131584    \n",
      "_________________________________________________________________\n",
      "dense_1 (Dense)              (None, 3, 3, 1024)        525312    \n",
      "_________________________________________________________________\n",
      "dense_2 (Dense)              (None, 3, 3, 2048)        2099200   \n",
      "_________________________________________________________________\n",
      "flatten (Flatten)            (None, 18432)             0         \n",
      "_________________________________________________________________\n",
      "dense_3 (Dense)              (None, 2)                 36866     \n",
      "=================================================================\n",
      "Total params: 3,973,026\n",
      "Trainable params: 3,971,074\n",
      "Non-trainable params: 1,952\n",
      "_________________________________________________________________\n"
     ]
    }
   ],
   "source": [
    "model = Sequential()\n",
    "\n",
    "model.add(Conv2D(16,(3,3), input_shape=input_shape, activation='relu', padding='same'))\n",
    "model.add(BatchNormalization())\n",
    "model.add(MaxPool2D(2,2))\n",
    "model.add(Dropout(0.20))\n",
    "\n",
    "model.add(Conv2D(32,(3,3), activation='relu', padding='same'))\n",
    "model.add(BatchNormalization())\n",
    "model.add(MaxPool2D(2,2))\n",
    "model.add(Dropout(0.20))\n",
    "\n",
    "model.add(Conv2D(32,(3,3), activation='relu', padding='same'))\n",
    "model.add(BatchNormalization())\n",
    "model.add(MaxPool2D(2,2))\n",
    "model.add(Dropout(0.20))\n",
    "\n",
    "model.add(Conv2D(64,(3,3), activation='relu', padding='same'))\n",
    "model.add(BatchNormalization())\n",
    "model.add(MaxPool2D(2,2))\n",
    "model.add(Dropout(0.20))\n",
    "\n",
    "model.add(Conv2D(64,(3,3), activation='relu', padding='same'))\n",
    "model.add(BatchNormalization())\n",
    "#model.add(MaxPool2D(2,2))\n",
    "model.add(Dropout(0.20))\n",
    "\n",
    "model.add(Conv2D(128,(3,3), activation='relu', padding='same'))\n",
    "model.add(BatchNormalization())\n",
    "model.add(MaxPool2D(2,2))\n",
    "model.add(Dropout(0.20))\n",
    "\n",
    "model.add(Conv2D(128,(3,3), activation='relu', padding='same'))\n",
    "model.add(BatchNormalization())\n",
    "#model.add(MaxPool2D(2,2))\n",
    "model.add(Dropout(0.20))\n",
    "\n",
    "model.add(Conv2D(256,(3,3), activation='relu', padding='same'))\n",
    "model.add(BatchNormalization())\n",
    "model.add(MaxPool2D(2,2))\n",
    "model.add(Dropout(0.20))\n",
    "\n",
    "model.add(Conv2D(256,(3,3), activation='relu', padding='same'))\n",
    "model.add(BatchNormalization())\n",
    "#model.add(MaxPool2D(2,2))\n",
    "model.add(Dropout(0.20))\n",
    "\n",
    "model.add(Dense(512, activation='relu'))\n",
    "\n",
    "model.add(Dense(1024, activation='relu'))\n",
    "\n",
    "model.add(Dense(2048, activation='relu'))\n",
    "\n",
    "model.add(Flatten())\n",
    "\n",
    "model.add(Dense(2, activation='softmax'))\n",
    "\n",
    "model.compile(loss = 'categorical_crossentropy', optimizer = 'adam', metrics = ['accuracy'])\n",
    "\n",
    "model.summary()"
   ]
  },
  {
   "cell_type": "code",
   "execution_count": 14,
   "id": "56211cf4-7647-4cc4-bdfc-f9a6de100cee",
   "metadata": {},
   "outputs": [
    {
     "name": "stdout",
     "output_type": "stream",
     "text": [
      "Epoch 1/34\n",
      "324/324 [==============================] - 37s 96ms/step - loss: 0.2704 - accuracy: 0.8970 - val_loss: 3.9717 - val_accuracy: 0.5000\n",
      "Epoch 2/34\n",
      "324/324 [==============================] - 31s 95ms/step - loss: 0.1588 - accuracy: 0.9466 - val_loss: 7.6782 - val_accuracy: 0.5625\n",
      "Epoch 3/34\n",
      "324/324 [==============================] - 31s 95ms/step - loss: 0.1571 - accuracy: 0.9444 - val_loss: 0.4199 - val_accuracy: 0.8125\n",
      "Epoch 4/34\n",
      "324/324 [==============================] - 30s 94ms/step - loss: 0.1232 - accuracy: 0.9589 - val_loss: 11.9436 - val_accuracy: 0.5208\n",
      "Epoch 5/34\n",
      "324/324 [==============================] - 31s 97ms/step - loss: 0.1082 - accuracy: 0.9612 - val_loss: 0.4167 - val_accuracy: 0.8750\n",
      "Epoch 6/34\n",
      "324/324 [==============================] - 31s 95ms/step - loss: 0.1018 - accuracy: 0.9585 - val_loss: 0.5108 - val_accuracy: 0.7500\n",
      "Epoch 7/34\n",
      "324/324 [==============================] - 31s 96ms/step - loss: 0.1012 - accuracy: 0.9643 - val_loss: 3.5020 - val_accuracy: 0.7083\n",
      "Epoch 8/34\n",
      "324/324 [==============================] - 31s 94ms/step - loss: 0.0918 - accuracy: 0.9672 - val_loss: 10.4375 - val_accuracy: 0.5000\n",
      "Epoch 9/34\n",
      "324/324 [==============================] - 30s 93ms/step - loss: 0.0637 - accuracy: 0.9767 - val_loss: 0.4736 - val_accuracy: 0.7917\n",
      "Epoch 10/34\n",
      "324/324 [==============================] - 30s 93ms/step - loss: 0.0574 - accuracy: 0.9790 - val_loss: 0.6144 - val_accuracy: 0.7708\n",
      "Epoch 11/34\n",
      "324/324 [==============================] - 31s 96ms/step - loss: 0.0580 - accuracy: 0.9796 - val_loss: 1.0575 - val_accuracy: 0.7917\n",
      "Epoch 12/34\n",
      "324/324 [==============================] - 30s 93ms/step - loss: 0.0457 - accuracy: 0.9828 - val_loss: 0.5533 - val_accuracy: 0.8125\n",
      "Epoch 13/34\n",
      "324/324 [==============================] - 31s 94ms/step - loss: 0.0541 - accuracy: 0.9811 - val_loss: 0.5169 - val_accuracy: 0.8125\n",
      "Epoch 14/34\n",
      "324/324 [==============================] - 30s 92ms/step - loss: 0.0493 - accuracy: 0.9807 - val_loss: 0.4900 - val_accuracy: 0.8542\n",
      "Epoch 15/34\n",
      "324/324 [==============================] - 30s 93ms/step - loss: 0.0498 - accuracy: 0.9817 - val_loss: 0.5057 - val_accuracy: 0.8125\n",
      "Epoch 16/34\n",
      "324/324 [==============================] - 32s 98ms/step - loss: 0.0486 - accuracy: 0.9805 - val_loss: 0.4501 - val_accuracy: 0.8542\n",
      "Epoch 17/34\n",
      "324/324 [==============================] - 30s 93ms/step - loss: 0.0489 - accuracy: 0.9809 - val_loss: 0.4983 - val_accuracy: 0.7917\n",
      "Epoch 18/34\n",
      "324/324 [==============================] - 30s 92ms/step - loss: 0.0525 - accuracy: 0.9797 - val_loss: 0.4946 - val_accuracy: 0.7917\n",
      "Epoch 19/34\n",
      "324/324 [==============================] - 30s 94ms/step - loss: 0.0487 - accuracy: 0.9832 - val_loss: 0.4764 - val_accuracy: 0.8542\n",
      "Epoch 20/34\n",
      "324/324 [==============================] - 30s 92ms/step - loss: 0.0510 - accuracy: 0.9805 - val_loss: 0.4800 - val_accuracy: 0.8542\n",
      "Epoch 21/34\n",
      "324/324 [==============================] - 30s 92ms/step - loss: 0.0473 - accuracy: 0.9819 - val_loss: 0.5060 - val_accuracy: 0.8125\n",
      "Epoch 22/34\n",
      "324/324 [==============================] - 30s 92ms/step - loss: 0.0514 - accuracy: 0.9805 - val_loss: 0.4880 - val_accuracy: 0.8333\n",
      "Epoch 23/34\n",
      "324/324 [==============================] - 30s 93ms/step - loss: 0.0453 - accuracy: 0.9823 - val_loss: 0.4380 - val_accuracy: 0.8542\n",
      "Epoch 24/34\n",
      "324/324 [==============================] - 30s 92ms/step - loss: 0.0453 - accuracy: 0.9807 - val_loss: 0.4883 - val_accuracy: 0.8542\n",
      "Epoch 25/34\n",
      "324/324 [==============================] - 30s 93ms/step - loss: 0.0470 - accuracy: 0.9821 - val_loss: 0.4608 - val_accuracy: 0.8542\n",
      "Epoch 26/34\n",
      "324/324 [==============================] - 30s 93ms/step - loss: 0.0482 - accuracy: 0.9819 - val_loss: 0.4581 - val_accuracy: 0.8333\n",
      "Epoch 27/34\n",
      "324/324 [==============================] - 31s 94ms/step - loss: 0.0495 - accuracy: 0.9828 - val_loss: 0.4956 - val_accuracy: 0.8125\n",
      "Epoch 28/34\n",
      "324/324 [==============================] - 30s 92ms/step - loss: 0.0534 - accuracy: 0.9788 - val_loss: 0.5000 - val_accuracy: 0.8333\n",
      "Epoch 29/34\n",
      "324/324 [==============================] - 30s 93ms/step - loss: 0.0457 - accuracy: 0.9809 - val_loss: 0.5255 - val_accuracy: 0.8333\n",
      "Epoch 30/34\n",
      "324/324 [==============================] - 30s 93ms/step - loss: 0.0479 - accuracy: 0.9807 - val_loss: 0.5062 - val_accuracy: 0.8750\n",
      "Epoch 31/34\n",
      "324/324 [==============================] - 31s 94ms/step - loss: 0.0471 - accuracy: 0.9828 - val_loss: 0.4940 - val_accuracy: 0.8542\n",
      "Epoch 32/34\n",
      "324/324 [==============================] - 30s 92ms/step - loss: 0.0478 - accuracy: 0.9821 - val_loss: 0.5059 - val_accuracy: 0.8542\n",
      "Epoch 33/34\n",
      "324/324 [==============================] - 30s 93ms/step - loss: 0.0471 - accuracy: 0.9815 - val_loss: 0.4861 - val_accuracy: 0.8542\n",
      "Epoch 34/34\n",
      "324/324 [==============================] - 30s 92ms/step - loss: 0.0472 - accuracy: 0.9821 - val_loss: 0.5072 - val_accuracy: 0.8542\n"
     ]
    }
   ],
   "source": [
    "epochs = 34\n",
    "history = model.fit(train_data,\n",
    "                    epochs=epochs,\n",
    "                    callbacks=callbacks,\n",
    "                    validation_data=valid_data,\n",
    "                   )"
   ]
  },
  {
   "cell_type": "code",
   "execution_count": 15,
   "id": "6827e008-d9ed-496e-81df-6d12b5804785",
   "metadata": {},
   "outputs": [
    {
     "data": {
      "text/plain": [
       "[<matplotlib.lines.Line2D at 0x26bf38aebb0>]"
      ]
     },
     "execution_count": 15,
     "metadata": {},
     "output_type": "execute_result"
    },
    {
     "data": {
      "image/png": "[encoded data removed]",
      "text/plain": [
       "<Figure size 432x288 with 1 Axes>"
      ]
     },
     "metadata": {
      "needs_background": "light"
     },
     "output_type": "display_data"
    }
   ],
   "source": [
    "plt.plot(history.history['loss'])"
   ]
  },
  {
   "cell_type": "markdown",
   "id": "7b8a074a-5d87-4044-90a6-9372eb7d3bb8",
   "metadata": {},
   "source": [
    "### Prediction and evaluation"
   ]
  },
  {
   "cell_type": "code",
   "execution_count": 16,
   "id": "724ab139-5ae5-4131-b129-168f2df6e51d",
   "metadata": {},
   "outputs": [],
   "source": [
    "pred = model.predict(test_data)"
   ]
  },
  {
   "cell_type": "code",
   "execution_count": 17,
   "id": "dd1f63dd-b995-420a-99b9-eafc3a197e28",
   "metadata": {},
   "outputs": [],
   "source": [
    "zero_index_pred = []\n",
    "for l in pred:\n",
    "    zero_index_pred.append(l[0])"
   ]
  },
  {
   "cell_type": "code",
   "execution_count": 18,
   "id": "8eca731a-95f4-45ad-84be-cdf869293bcd",
   "metadata": {},
   "outputs": [
    {
     "data": {
      "text/html": [
       "<div>\n",
       "<style scoped>\n",
       "    .dataframe tbody tr th:only-of-type {\n",
       "        vertical-align: middle;\n",
       "    }\n",
       "\n",
       "    .dataframe tbody tr th {\n",
       "        vertical-align: top;\n",
       "    }\n",
       "\n",
       "    .dataframe thead th {\n",
       "        text-align: right;\n",
       "    }\n",
       "</style>\n",
       "<table border=\"1\" class=\"dataframe\">\n",
       "  <thead>\n",
       "    <tr style=\"text-align: right;\">\n",
       "      <th></th>\n",
       "      <th>Paths</th>\n",
       "      <th>File</th>\n",
       "      <th>Category</th>\n",
       "      <th>actual</th>\n",
       "      <th>Pred_proba_Normal</th>\n",
       "      <th>class_pred</th>\n",
       "    </tr>\n",
       "  </thead>\n",
       "  <tbody>\n",
       "    <tr>\n",
       "      <th>0</th>\n",
       "      <td>C:\\Users\\Amit\\Desktop\\ML Projects\\Chest X-ray ...</td>\n",
       "      <td>IM-0001-0001.jpeg</td>\n",
       "      <td>NORMAL</td>\n",
       "      <td>0</td>\n",
       "      <td>0.977037</td>\n",
       "      <td>0</td>\n",
       "    </tr>\n",
       "    <tr>\n",
       "      <th>1</th>\n",
       "      <td>C:\\Users\\Amit\\Desktop\\ML Projects\\Chest X-ray ...</td>\n",
       "      <td>IM-0003-0001.jpeg</td>\n",
       "      <td>NORMAL</td>\n",
       "      <td>0</td>\n",
       "      <td>0.838172</td>\n",
       "      <td>0</td>\n",
       "    </tr>\n",
       "    <tr>\n",
       "      <th>2</th>\n",
       "      <td>C:\\Users\\Amit\\Desktop\\ML Projects\\Chest X-ray ...</td>\n",
       "      <td>IM-0005-0001.jpeg</td>\n",
       "      <td>NORMAL</td>\n",
       "      <td>0</td>\n",
       "      <td>0.713298</td>\n",
       "      <td>0</td>\n",
       "    </tr>\n",
       "    <tr>\n",
       "      <th>3</th>\n",
       "      <td>C:\\Users\\Amit\\Desktop\\ML Projects\\Chest X-ray ...</td>\n",
       "      <td>IM-0006-0001.jpeg</td>\n",
       "      <td>NORMAL</td>\n",
       "      <td>0</td>\n",
       "      <td>0.866755</td>\n",
       "      <td>0</td>\n",
       "    </tr>\n",
       "    <tr>\n",
       "      <th>4</th>\n",
       "      <td>C:\\Users\\Amit\\Desktop\\ML Projects\\Chest X-ray ...</td>\n",
       "      <td>IM-0007-0001.jpeg</td>\n",
       "      <td>NORMAL</td>\n",
       "      <td>0</td>\n",
       "      <td>0.986675</td>\n",
       "      <td>0</td>\n",
       "    </tr>\n",
       "  </tbody>\n",
       "</table>\n",
       "</div>"
      ],
      "text/plain": [
       "                                               Paths               File  \\\n",
       "0  C:\\Users\\Amit\\Desktop\\ML Projects\\Chest X-ray ...  IM-0001-0001.jpeg   \n",
       "1  C:\\Users\\Amit\\Desktop\\ML Projects\\Chest X-ray ...  IM-0003-0001.jpeg   \n",
       "2  C:\\Users\\Amit\\Desktop\\ML Projects\\Chest X-ray ...  IM-0005-0001.jpeg   \n",
       "3  C:\\Users\\Amit\\Desktop\\ML Projects\\Chest X-ray ...  IM-0006-0001.jpeg   \n",
       "4  C:\\Users\\Amit\\Desktop\\ML Projects\\Chest X-ray ...  IM-0007-0001.jpeg   \n",
       "\n",
       "  Category  actual  Pred_proba_Normal  class_pred  \n",
       "0   NORMAL       0           0.977037           0  \n",
       "1   NORMAL       0           0.838172           0  \n",
       "2   NORMAL       0           0.713298           0  \n",
       "3   NORMAL       0           0.866755           0  \n",
       "4   NORMAL       0           0.986675           0  "
      ]
     },
     "execution_count": 18,
     "metadata": {},
     "output_type": "execute_result"
    }
   ],
   "source": [
    "model9_pred = df_test.copy()\n",
    "\n",
    "model9_pred['actual'] = model9_pred['Category'].apply(lambda x: 0 if x=='NORMAL' else 1)\n",
    "model9_pred['Pred_proba_Normal'] = zero_index_pred\n",
    "model9_pred['class_pred'] = model9_pred['Pred_proba_Normal'].apply(lambda x: 1 if x<0.5 else 0)\n",
    "\n",
    "model9_pred.head()"
   ]
  },
  {
   "cell_type": "code",
   "execution_count": 19,
   "id": "b5e03880-a5e0-4c9b-929e-9fef061c019c",
   "metadata": {
    "tags": []
   },
   "outputs": [
    {
     "data": {
      "text/plain": [
       "array([[145,  89],\n",
       "       [  5, 385]], dtype=int64)"
      ]
     },
     "execution_count": 19,
     "metadata": {},
     "output_type": "execute_result"
    }
   ],
   "source": [
    "confusion_matrix(model9_pred['actual'], model9_pred['class_pred'])"
   ]
  },
  {
   "cell_type": "code",
   "execution_count": 20,
   "id": "f32926b2-ca47-4e0d-83e3-611770a529ed",
   "metadata": {},
   "outputs": [
    {
     "data": {
      "text/plain": [
       "0.8493589743589743"
      ]
     },
     "execution_count": 20,
     "metadata": {},
     "output_type": "execute_result"
    }
   ],
   "source": [
    "accuracy_score(model9_pred['actual'], model9_pred['class_pred'])"
   ]
  },
  {
   "cell_type": "code",
   "execution_count": 21,
   "id": "8598cfed-310a-48ee-97d1-2aa57c597b6d",
   "metadata": {},
   "outputs": [],
   "source": [
    "#model_9 = model.save('model_9.h5')"
   ]
  },
  {
   "cell_type": "code",
   "execution_count": null,
   "id": "259603da-80e0-4b3a-88a1-e16b2e4b8b79",
   "metadata": {},
   "outputs": [],
   "source": []
  }
 ],
 "metadata": {
  "kernelspec": {
   "display_name": "Python 3",
   "language": "python",
   "name": "python3"
  },
  "language_info": {
   "codemirror_mode": {
    "name": "ipython",
    "version": 3
   },
   "file_extension": ".py",
   "mimetype": "text/x-python",
   "name": "python",
   "nbconvert_exporter": "python",
   "pygments_lexer": "ipython3",
   "version": "3.8.8"
  }
 },
 "nbformat": 4,
 "nbformat_minor": 5
}
